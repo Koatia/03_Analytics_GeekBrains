{
 "cells": [
  {
   "cell_type": "code",
   "execution_count": 9,
   "metadata": {},
   "outputs": [],
   "source": [
    "# !pip install numpy pandas scipy matplotlib seaborn"
   ]
  },
  {
   "cell_type": "markdown",
   "metadata": {},
   "source": [
    "<p style=\"align: center;\"><img align=center src=\"https://mailfit.com/wp-content/uploads/2019/11/lego-5.png\"  width=900></p>\n",
    "<h1 style=\"text-align: center;\"><b>«Практика построения доверительного интервала »</b></h3>\n"
   ]
  },
  {
   "cell_type": "markdown",
   "metadata": {},
   "source": [
    "# Импортирование библиотек"
   ]
  },
  {
   "cell_type": "code",
   "execution_count": 1,
   "metadata": {
    "scrolled": true
   },
   "outputs": [],
   "source": [
    "import numpy as np\n",
    "import pandas as pd  # для работы с таблицами\n",
    "\n",
    "from scipy import stats  # При работе со статистикой\n",
    "\n",
    "import matplotlib.pyplot as plt  # Библиотека для визуализации результатов\n",
    "import seaborn as sns  # Более продвинутая библиотека для визуализации"
   ]
  },
  {
   "cell_type": "markdown",
   "metadata": {},
   "source": [
    "<div class=\"alert alert-info\">\n",
    "\n",
    "Построим вспомогательную функцию для построения доверительного интервала "
   ]
  },
  {
   "cell_type": "code",
   "execution_count": 11,
   "metadata": {},
   "outputs": [],
   "source": [
    "# Вспомогательная функция для подсчета доверительного интервала\n",
    "# https://stackoverflow.com/questions/15033511/compute-a-confidence-interval-from-sample-data\n",
    "\n",
    "\n",
    "#  Напомнить, про p-value\n",
    "def mean_confidence_interval(\n",
    "    data, confidence=0.95\n",
    "):  # Сложный пример реализации. Проще смотри в лекци.\n",
    "    n = len(data)\n",
    "    m, se = np.mean(data), stats.sem(data)\n",
    "    delta = se * stats.t.ppf(\n",
    "        (1 + confidence) / 2, n\n",
    "    )  #  функция ppf из scipy возвращает нам перцентиль\n",
    "    return m - delta, m + delta"
   ]
  },
  {
   "cell_type": "code",
   "execution_count": 12,
   "metadata": {},
   "outputs": [
    {
     "name": "stdout",
     "output_type": "stream",
     "text": [
      "(11.707786838827133, 13.074821856825043)\n",
      "(11.02521592553596, 13.757392770116216)\n"
     ]
    }
   ],
   "source": [
    "a = [\n",
    "    5,\n",
    "    7,\n",
    "    7,\n",
    "    9,\n",
    "    10,\n",
    "    16,\n",
    "    7,\n",
    "    14,\n",
    "    13,\n",
    "    15,\n",
    "    16,\n",
    "    15,\n",
    "    16,\n",
    "    17,\n",
    "    18,\n",
    "    13,\n",
    "    14,\n",
    "    15,\n",
    "    6,\n",
    "    13,\n",
    "    14,\n",
    "    12,\n",
    "    13,\n",
    "]\n",
    "\n",
    "print(mean_confidence_interval(a, 0.60))\n",
    "print(mean_confidence_interval(a, 0.90))"
   ]
  },
  {
   "cell_type": "code",
   "execution_count": 13,
   "metadata": {},
   "outputs": [],
   "source": [
    "# stats.sem?"
   ]
  },
  {
   "cell_type": "code",
   "execution_count": 14,
   "metadata": {},
   "outputs": [],
   "source": [
    "###"
   ]
  },
  {
   "cell_type": "markdown",
   "metadata": {},
   "source": [
    "<h3 style=\"text-align: center;\"><b>Выборы в президенты или зачем нам доверительные интерваллы?!</b></h3>\n",
    "\n",
    "<p style=\"align: center;\"><img align=center src=\"https://www.englisch-hilfen.de/images/usa/states/map.gif\"  width=400></p>\n",
    "\n"
   ]
  },
  {
   "cell_type": "markdown",
   "metadata": {},
   "source": [
    "<div class=\"alert alert-info\">\n",
    "<b>Задача: </b> Попробуем с помощью доверительного интервала оценить, какое минимальное количество штатов надо взять, чтобы определить будущего президента\n",
    "</div>"
   ]
  },
  {
   "cell_type": "code",
   "execution_count": 15,
   "metadata": {},
   "outputs": [],
   "source": [
    "US_elect_county = \"https://raw.githubusercontent.com/a-milenkin/datasets_for_t-tests/main/2012_US_elect_county.csv\"\n",
    "\n",
    "df = pd.read_csv(US_elect_county, sep=\",\", on_bad_lines=\"skip\")  # Откроем датасет"
   ]
  },
  {
   "cell_type": "code",
   "execution_count": 16,
   "metadata": {},
   "outputs": [
    {
     "data": {
      "text/html": [
       "<div>\n",
       "<style scoped>\n",
       "    .dataframe tbody tr th:only-of-type {\n",
       "        vertical-align: middle;\n",
       "    }\n",
       "\n",
       "    .dataframe tbody tr th {\n",
       "        vertical-align: top;\n",
       "    }\n",
       "\n",
       "    .dataframe thead th {\n",
       "        text-align: right;\n",
       "    }\n",
       "</style>\n",
       "<table border=\"1\" class=\"dataframe\">\n",
       "  <thead>\n",
       "    <tr style=\"text-align: right;\">\n",
       "      <th></th>\n",
       "      <th>State Postal</th>\n",
       "      <th>County Name</th>\n",
       "      <th>%</th>\n",
       "    </tr>\n",
       "  </thead>\n",
       "  <tbody>\n",
       "    <tr>\n",
       "      <th>0</th>\n",
       "      <td>AK</td>\n",
       "      <td>Alaska</td>\n",
       "      <td>41.6</td>\n",
       "    </tr>\n",
       "    <tr>\n",
       "      <th>1</th>\n",
       "      <td>AK</td>\n",
       "      <td>Alaska</td>\n",
       "      <td>41.6</td>\n",
       "    </tr>\n",
       "    <tr>\n",
       "      <th>2</th>\n",
       "      <td>AL</td>\n",
       "      <td>Alabama</td>\n",
       "      <td>38.4</td>\n",
       "    </tr>\n",
       "    <tr>\n",
       "      <th>3</th>\n",
       "      <td>AL</td>\n",
       "      <td>Autauga</td>\n",
       "      <td>26.6</td>\n",
       "    </tr>\n",
       "    <tr>\n",
       "      <th>4</th>\n",
       "      <td>AL</td>\n",
       "      <td>Baldwin</td>\n",
       "      <td>21.6</td>\n",
       "    </tr>\n",
       "  </tbody>\n",
       "</table>\n",
       "</div>"
      ],
      "text/plain": [
       "  State Postal County Name     %\n",
       "0           AK      Alaska  41.6\n",
       "1           AK      Alaska  41.6\n",
       "2           AL     Alabama  38.4\n",
       "3           AL     Autauga  26.6\n",
       "4           AL     Baldwin  21.6"
      ]
     },
     "execution_count": 16,
     "metadata": {},
     "output_type": "execute_result"
    }
   ],
   "source": [
    "df.dropna(how=\"any\", inplace=True)  # Удалим пустые значения\n",
    "df = df[df[\"%\"] != \"#DIV/0!\"][\n",
    "    [\"State Postal\", \"County Name\", \"%\"]\n",
    "]  # Удалим мусор из данных и оставим только нужное\n",
    "df[\"%\"] = df[\"%\"].astype(float)  # Приведем к численному значению результаты голосования\n",
    "df.head()"
   ]
  },
  {
   "cell_type": "code",
   "execution_count": 17,
   "metadata": {},
   "outputs": [
    {
     "name": "stdout",
     "output_type": "stream",
     "text": [
      "Среднее по всей выборке:  44.07946954813359\n"
     ]
    },
    {
     "data": {
      "image/png": "[encoded data removed]",
      "text/plain": [
       "<Figure size 640x480 with 1 Axes>"
      ]
     },
     "metadata": {},
     "output_type": "display_data"
    }
   ],
   "source": [
    "df[\"%\"].hist(bins=15)\n",
    "print(\"Среднее по всей выборке: \", df[\"%\"].mean())"
   ]
  },
  {
   "cell_type": "code",
   "execution_count": 18,
   "metadata": {},
   "outputs": [
    {
     "data": {
      "text/plain": [
       "(42.02508490862674, 50.44448030876457)"
      ]
     },
     "execution_count": 18,
     "metadata": {},
     "output_type": "execute_result"
    }
   ],
   "source": [
    "some_states_1 = [\"AK\", \"OH\", \"WV\", \"ME\", \"CA\", \"MD\"]  # Некоторая выборка штатов\n",
    "some_states_2 = [\"WA\", \"AK\", \"DE\"]\n",
    "\n",
    "sub_df = df.loc[df[\"State Postal\"].isin(some_states_2)]  # Выборка по нескольким штатам\n",
    "\n",
    "l, r = mean_confidence_interval(sub_df[\"%\"], 0.99)\n",
    "l, r"
   ]
  },
  {
   "cell_type": "code",
   "execution_count": 19,
   "metadata": {},
   "outputs": [
    {
     "data": {
      "text/plain": [
       "State Postal\n",
       "ME    498\n",
       "MA    352\n",
       "TX    255\n",
       "VT    247\n",
       "NH    238\n",
       "VA    135\n",
       "KY    121\n",
       "MO    116\n",
       "KS    106\n",
       "IL    103\n",
       "NC    101\n",
       "IA    100\n",
       "TN     96\n",
       "NE     94\n",
       "IN     93\n",
       "OH     89\n",
       "MN     88\n",
       "MI     84\n",
       "MS     83\n",
       "OK     78\n",
       "AR     75\n",
       "WI     73\n",
       "AL     68\n",
       "PA     68\n",
       "SD     67\n",
       "LA     65\n",
       "NY     63\n",
       "CA     59\n",
       "MT     57\n",
       "WV     56\n",
       "ND     54\n",
       "ID     45\n",
       "RI     40\n",
       "WA     40\n",
       "OR     37\n",
       "NM     34\n",
       "MD     25\n",
       "NJ     22\n",
       "NV     18\n",
       "AZ     16\n",
       "HI      5\n",
       "DE      4\n",
       "DC      2\n",
       "AK      2\n",
       "Name: count, dtype: int64"
      ]
     },
     "execution_count": 19,
     "metadata": {},
     "output_type": "execute_result"
    }
   ],
   "source": [
    "df[\"State Postal\"].value_counts()  # Раскомментить, если интересно соотношение штатов."
   ]
  },
  {
   "cell_type": "markdown",
   "metadata": {},
   "source": [
    "<p style=\"align: center;\"><img align=center src=\"https://encrypted-tbn0.gstatic.com/images?q=tbn:ANd9GcQM7ZUiNIwL4fZho5F7zqWpLBw-eL-Ttg0-UA&usqp=CAU\"  width=400></p>\n",
    " "
   ]
  },
  {
   "cell_type": "markdown",
   "metadata": {},
   "source": [
    "<div class=\"alert alert-info\">\n",
    "<b>Другой пример: </b>\n",
    "    \n",
    "Рассмотрим такой случай. Допустим, вы журналист и оказались в 2016 году в преддверии выборов президента в США. Вы хотите по результатам своих исследований достаточно точно определить, кто победит на этих выборах. Сколько вам необходимо опросить людей, чтобы назвать будущего президента с точность в 95%???\n",
    "</div>"
   ]
  },
  {
   "cell_type": "markdown",
   "metadata": {},
   "source": [
    "<div class=\"alert alert-info\">\n",
    "    \n",
    "Результаты предшествующих исследований свидетельствуют, что стандартное отклонение генеральной совокупности приближенно равно 15. Пусть погрешность измерений $\\Delta$ = 5. Таким образом, обозначим стандартное отклонение $\\sigma$ = 15 и квантиль нормального распределения Z = 1,96.\n",
    "\n",
    "</div>"
   ]
  },
  {
   "cell_type": "markdown",
   "metadata": {},
   "source": [
    "$$ n = (\\frac{Z*\\sigma}{\\Delta})^2$$\n",
    "- $\\Delta$ - допустимая ошибка/погрешность, \n",
    "\n",
    "- $\\sigma$ - стандартное отклонение, \n",
    "\n",
    "- Z - квантиль нормального распределения\n"
   ]
  },
  {
   "cell_type": "code",
   "execution_count": 20,
   "metadata": {},
   "outputs": [],
   "source": [
    "sigma = 15  # Стандартное отклонение\n",
    "Z = 1.96  #  %   # Квантиль нормального распределения.\n",
    "Delta = 5  # %         #Погрешность"
   ]
  },
  {
   "cell_type": "code",
   "execution_count": 21,
   "metadata": {},
   "outputs": [
    {
     "data": {
      "text/plain": [
       "34"
      ]
     },
     "execution_count": 21,
     "metadata": {},
     "output_type": "execute_result"
    }
   ],
   "source": [
    "N = int(((sigma * Z) / Delta) ** 2)\n",
    "N"
   ]
  },
  {
   "cell_type": "code",
   "execution_count": 22,
   "metadata": {},
   "outputs": [],
   "source": [
    "# len(df)"
   ]
  },
  {
   "cell_type": "markdown",
   "metadata": {},
   "source": [
    "# Проверим разумность наших расуждений:"
   ]
  },
  {
   "cell_type": "code",
   "execution_count": 23,
   "metadata": {},
   "outputs": [
    {
     "name": "stdout",
     "output_type": "stream",
     "text": [
      "Стандартное отклонение:  15.742396788859033\n",
      "Среднее:  44.07946954813359\n"
     ]
    },
    {
     "data": {
      "text/plain": [
       "<Axes: >"
      ]
     },
     "execution_count": 23,
     "metadata": {},
     "output_type": "execute_result"
    },
    {
     "data": {
      "image/png": "[encoded data removed]",
      "text/plain": [
       "<Figure size 640x480 with 1 Axes>"
      ]
     },
     "metadata": {},
     "output_type": "display_data"
    }
   ],
   "source": [
    "df = df[\"%\"]\n",
    "print(\"Стандартное отклонение: \", df.std())\n",
    "print(\"Среднее: \", df.mean())\n",
    "df.hist(bins=80)"
   ]
  },
  {
   "cell_type": "code",
   "execution_count": 32,
   "metadata": {},
   "outputs": [
    {
     "name": "stdout",
     "output_type": "stream",
     "text": [
      "Среднее выборки:  44.044117647058826\n",
      "Среднее генеральной совокупности:  44.07946954813359\n",
      "Доверительный интервал: (39.044117647058826, 49.044117647058826)\n"
     ]
    }
   ],
   "source": [
    "MEAN = df.sample(n=int(N)).mean()  # Возьмем выборку из случайных n значений\n",
    "\n",
    "print(\"Среднее выборки: \", MEAN)\n",
    "print(\"Среднее генеральной совокупности: \", df.mean())\n",
    "\n",
    "print(\"Доверительный интервал: (\", MEAN - Delta, \", \", MEAN + Delta, \")\", sep=\"\")"
   ]
  }
 ],
 "metadata": {
  "kernelspec": {
   "display_name": "Python 3",
   "language": "python",
   "name": "python3"
  },
  "language_info": {
   "codemirror_mode": {
    "name": "ipython",
    "version": 3
   },
   "file_extension": ".py",
   "mimetype": "text/x-python",
   "name": "python",
   "nbconvert_exporter": "python",
   "pygments_lexer": "ipython3",
   "version": "3.12.6"
  },
  "toc": {
   "base_numbering": 1,
   "nav_menu": {},
   "number_sections": true,
   "sideBar": true,
   "skip_h1_title": false,
   "title_cell": "Table of Contents",
   "title_sidebar": "Contents",
   "toc_cell": false,
   "toc_position": {},
   "toc_section_display": true,
   "toc_window_display": false
  }
 },
 "nbformat": 4,
 "nbformat_minor": 4
}
