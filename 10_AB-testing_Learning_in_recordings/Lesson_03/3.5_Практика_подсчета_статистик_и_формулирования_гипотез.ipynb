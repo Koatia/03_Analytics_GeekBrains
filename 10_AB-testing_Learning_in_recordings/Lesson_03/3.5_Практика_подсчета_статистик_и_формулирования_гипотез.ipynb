{
 "cells": [
  {
   "cell_type": "code",
   "execution_count": 10,
   "metadata": {},
   "outputs": [],
   "source": [
    "# !pip install numpy pandas scipy matplotlib seaborn"
   ]
  },
  {
   "cell_type": "markdown",
   "metadata": {},
   "source": [
    "<p style=\"align: center;\"><img align=center src=\"https://mailfit.com/wp-content/uploads/2019/11/lego-5.png\"  width=900></p>\n",
    "<h1 style=\"text-align: center;\"><b>«Практика подсчета статистик и формулирования гипотез\n",
    "»</b></h3>\n"
   ]
  },
  {
   "cell_type": "code",
   "metadata": {
    "ExecuteTime": {
     "end_time": "2024-10-11T09:59:58.532997Z",
     "start_time": "2024-10-11T09:59:58.530345Z"
    }
   },
   "source": [
    "import numpy as np\n",
    "import pandas as pd  # для работы с таблицами\n",
    "\n",
    "from scipy import stats  # При работе со статистикой\n",
    "\n",
    "import matplotlib.pyplot as plt  # Библиотека для визуализации результатов\n",
    "import seaborn as sns  # Более продвинутая библиотека для визуализации"
   ],
   "outputs": [],
   "execution_count": 1
  },
  {
   "cell_type": "markdown",
   "metadata": {},
   "source": [
    "# Датасет с характеристиками автомобилей"
   ]
  },
  {
   "cell_type": "code",
   "execution_count": 12,
   "metadata": {},
   "outputs": [
    {
     "name": "stdout",
     "output_type": "stream",
     "text": [
      "Размер нашего датасета: (205, 26)\n"
     ]
    },
    {
     "data": {
      "text/html": [
       "<div>\n",
       "<style scoped>\n",
       "    .dataframe tbody tr th:only-of-type {\n",
       "        vertical-align: middle;\n",
       "    }\n",
       "\n",
       "    .dataframe tbody tr th {\n",
       "        vertical-align: top;\n",
       "    }\n",
       "\n",
       "    .dataframe thead th {\n",
       "        text-align: right;\n",
       "    }\n",
       "</style>\n",
       "<table border=\"1\" class=\"dataframe\">\n",
       "  <thead>\n",
       "    <tr style=\"text-align: right;\">\n",
       "      <th></th>\n",
       "      <th>car_ID</th>\n",
       "      <th>symboling</th>\n",
       "      <th>CarName</th>\n",
       "      <th>fueltype</th>\n",
       "      <th>aspiration</th>\n",
       "      <th>doornumber</th>\n",
       "      <th>carbody</th>\n",
       "      <th>drivewheel</th>\n",
       "      <th>enginelocation</th>\n",
       "      <th>wheelbase</th>\n",
       "      <th>...</th>\n",
       "      <th>enginesize</th>\n",
       "      <th>fuelsystem</th>\n",
       "      <th>boreratio</th>\n",
       "      <th>stroke</th>\n",
       "      <th>compressionratio</th>\n",
       "      <th>horsepower</th>\n",
       "      <th>peakrpm</th>\n",
       "      <th>citympg</th>\n",
       "      <th>highwaympg</th>\n",
       "      <th>price</th>\n",
       "    </tr>\n",
       "  </thead>\n",
       "  <tbody>\n",
       "    <tr>\n",
       "      <th>0</th>\n",
       "      <td>1</td>\n",
       "      <td>3</td>\n",
       "      <td>alfa-romero giulia</td>\n",
       "      <td>gas</td>\n",
       "      <td>std</td>\n",
       "      <td>two</td>\n",
       "      <td>convertible</td>\n",
       "      <td>rwd</td>\n",
       "      <td>front</td>\n",
       "      <td>88.6</td>\n",
       "      <td>...</td>\n",
       "      <td>130</td>\n",
       "      <td>mpfi</td>\n",
       "      <td>3.47</td>\n",
       "      <td>2.68</td>\n",
       "      <td>9.0</td>\n",
       "      <td>111</td>\n",
       "      <td>5000</td>\n",
       "      <td>21</td>\n",
       "      <td>27</td>\n",
       "      <td>13495.0</td>\n",
       "    </tr>\n",
       "    <tr>\n",
       "      <th>1</th>\n",
       "      <td>2</td>\n",
       "      <td>3</td>\n",
       "      <td>alfa-romero stelvio</td>\n",
       "      <td>gas</td>\n",
       "      <td>std</td>\n",
       "      <td>two</td>\n",
       "      <td>convertible</td>\n",
       "      <td>rwd</td>\n",
       "      <td>front</td>\n",
       "      <td>88.6</td>\n",
       "      <td>...</td>\n",
       "      <td>130</td>\n",
       "      <td>mpfi</td>\n",
       "      <td>3.47</td>\n",
       "      <td>2.68</td>\n",
       "      <td>9.0</td>\n",
       "      <td>111</td>\n",
       "      <td>5000</td>\n",
       "      <td>21</td>\n",
       "      <td>27</td>\n",
       "      <td>16500.0</td>\n",
       "    </tr>\n",
       "    <tr>\n",
       "      <th>2</th>\n",
       "      <td>3</td>\n",
       "      <td>1</td>\n",
       "      <td>alfa-romero Quadrifoglio</td>\n",
       "      <td>gas</td>\n",
       "      <td>std</td>\n",
       "      <td>two</td>\n",
       "      <td>hatchback</td>\n",
       "      <td>rwd</td>\n",
       "      <td>front</td>\n",
       "      <td>94.5</td>\n",
       "      <td>...</td>\n",
       "      <td>152</td>\n",
       "      <td>mpfi</td>\n",
       "      <td>2.68</td>\n",
       "      <td>3.47</td>\n",
       "      <td>9.0</td>\n",
       "      <td>154</td>\n",
       "      <td>5000</td>\n",
       "      <td>19</td>\n",
       "      <td>26</td>\n",
       "      <td>16500.0</td>\n",
       "    </tr>\n",
       "    <tr>\n",
       "      <th>3</th>\n",
       "      <td>4</td>\n",
       "      <td>2</td>\n",
       "      <td>audi 100 ls</td>\n",
       "      <td>gas</td>\n",
       "      <td>std</td>\n",
       "      <td>four</td>\n",
       "      <td>sedan</td>\n",
       "      <td>fwd</td>\n",
       "      <td>front</td>\n",
       "      <td>99.8</td>\n",
       "      <td>...</td>\n",
       "      <td>109</td>\n",
       "      <td>mpfi</td>\n",
       "      <td>3.19</td>\n",
       "      <td>3.40</td>\n",
       "      <td>10.0</td>\n",
       "      <td>102</td>\n",
       "      <td>5500</td>\n",
       "      <td>24</td>\n",
       "      <td>30</td>\n",
       "      <td>13950.0</td>\n",
       "    </tr>\n",
       "    <tr>\n",
       "      <th>4</th>\n",
       "      <td>5</td>\n",
       "      <td>2</td>\n",
       "      <td>audi 100ls</td>\n",
       "      <td>gas</td>\n",
       "      <td>std</td>\n",
       "      <td>four</td>\n",
       "      <td>sedan</td>\n",
       "      <td>4wd</td>\n",
       "      <td>front</td>\n",
       "      <td>99.4</td>\n",
       "      <td>...</td>\n",
       "      <td>136</td>\n",
       "      <td>mpfi</td>\n",
       "      <td>3.19</td>\n",
       "      <td>3.40</td>\n",
       "      <td>8.0</td>\n",
       "      <td>115</td>\n",
       "      <td>5500</td>\n",
       "      <td>18</td>\n",
       "      <td>22</td>\n",
       "      <td>17450.0</td>\n",
       "    </tr>\n",
       "  </tbody>\n",
       "</table>\n",
       "<p>5 rows × 26 columns</p>\n",
       "</div>"
      ],
      "text/plain": [
       "   car_ID  symboling                   CarName fueltype aspiration doornumber  \\\n",
       "0       1          3        alfa-romero giulia      gas        std        two   \n",
       "1       2          3       alfa-romero stelvio      gas        std        two   \n",
       "2       3          1  alfa-romero Quadrifoglio      gas        std        two   \n",
       "3       4          2               audi 100 ls      gas        std       four   \n",
       "4       5          2                audi 100ls      gas        std       four   \n",
       "\n",
       "       carbody drivewheel enginelocation  wheelbase  ...  enginesize  \\\n",
       "0  convertible        rwd          front       88.6  ...         130   \n",
       "1  convertible        rwd          front       88.6  ...         130   \n",
       "2    hatchback        rwd          front       94.5  ...         152   \n",
       "3        sedan        fwd          front       99.8  ...         109   \n",
       "4        sedan        4wd          front       99.4  ...         136   \n",
       "\n",
       "   fuelsystem  boreratio  stroke compressionratio horsepower  peakrpm citympg  \\\n",
       "0        mpfi       3.47    2.68              9.0        111     5000      21   \n",
       "1        mpfi       3.47    2.68              9.0        111     5000      21   \n",
       "2        mpfi       2.68    3.47              9.0        154     5000      19   \n",
       "3        mpfi       3.19    3.40             10.0        102     5500      24   \n",
       "4        mpfi       3.19    3.40              8.0        115     5500      18   \n",
       "\n",
       "   highwaympg    price  \n",
       "0          27  13495.0  \n",
       "1          27  16500.0  \n",
       "2          26  16500.0  \n",
       "3          30  13950.0  \n",
       "4          22  17450.0  \n",
       "\n",
       "[5 rows x 26 columns]"
      ]
     },
     "execution_count": 12,
     "metadata": {},
     "output_type": "execute_result"
    }
   ],
   "source": [
    "data = pd.read_csv(\n",
    "    \"https://raw.githubusercontent.com/a-milenkin/mipt_data_science_2021/main/data/CarPrice_Assignment.csv\"\n",
    ")\n",
    "print(\"Размер нашего датасета: {}\".format(data.shape))\n",
    "data.head()\n",
    "\n",
    "# cookie_cats = \"https://raw.githubusercontent.com/a-milenkin/datasets_for_t-tests/main/cookie_cats.csv\"\n",
    "# data = pd.read_csv(cookie_cats, on_bad_lines=\"skip\")  # Откроем датасет\n",
    "# data.head()"
   ]
  },
  {
   "cell_type": "markdown",
   "metadata": {},
   "source": [
    "<div class=\"alert alert-info\">\n",
    "\n",
    "<b>Про датасет: </b>\n",
    "    \n",
    "В датасет были собраны характеристики по машинами разных марок. Собрано около 26 характеристик машины, в том числе ее рыночная стоимость при продаже или покупке. Первоначальная цель датасета была в предсказании цены автомобиля по его описанию.  \n",
    "\n",
    "\n",
    "</div>\n"
   ]
  },
  {
   "cell_type": "code",
   "execution_count": 13,
   "metadata": {},
   "outputs": [
    {
     "name": "stdout",
     "output_type": "stream",
     "text": [
      "<class 'pandas.core.frame.DataFrame'>\n",
      "RangeIndex: 205 entries, 0 to 204\n",
      "Data columns (total 26 columns):\n",
      " #   Column            Non-Null Count  Dtype  \n",
      "---  ------            --------------  -----  \n",
      " 0   car_ID            205 non-null    int64  \n",
      " 1   symboling         205 non-null    int64  \n",
      " 2   CarName           205 non-null    object \n",
      " 3   fueltype          205 non-null    object \n",
      " 4   aspiration        205 non-null    object \n",
      " 5   doornumber        205 non-null    object \n",
      " 6   carbody           205 non-null    object \n",
      " 7   drivewheel        205 non-null    object \n",
      " 8   enginelocation    205 non-null    object \n",
      " 9   wheelbase         205 non-null    float64\n",
      " 10  carlength         205 non-null    float64\n",
      " 11  carwidth          205 non-null    float64\n",
      " 12  carheight         205 non-null    float64\n",
      " 13  curbweight        205 non-null    int64  \n",
      " 14  enginetype        205 non-null    object \n",
      " 15  cylindernumber    205 non-null    object \n",
      " 16  enginesize        205 non-null    int64  \n",
      " 17  fuelsystem        205 non-null    object \n",
      " 18  boreratio         205 non-null    float64\n",
      " 19  stroke            205 non-null    float64\n",
      " 20  compressionratio  205 non-null    float64\n",
      " 21  horsepower        205 non-null    int64  \n",
      " 22  peakrpm           205 non-null    int64  \n",
      " 23  citympg           205 non-null    int64  \n",
      " 24  highwaympg        205 non-null    int64  \n",
      " 25  price             205 non-null    float64\n",
      "dtypes: float64(8), int64(8), object(10)\n",
      "memory usage: 41.8+ KB\n"
     ]
    }
   ],
   "source": [
    "data.info()"
   ]
  },
  {
   "cell_type": "markdown",
   "metadata": {},
   "source": [
    "<div class=\"alert alert-info\">\n",
    "\n",
    "    \n",
    "Рассмотрим самый интересный столбец с <b> ценой на машины </b> - это столбец `price`\n",
    "\n",
    "</div>\n",
    "\n",
    "\n"
   ]
  },
  {
   "cell_type": "markdown",
   "metadata": {},
   "source": [
    "# Полезные статистики - среднее, медиана, дисперсия"
   ]
  },
  {
   "cell_type": "code",
   "execution_count": 14,
   "metadata": {},
   "outputs": [
    {
     "data": {
      "text/plain": [
       "13276.710570731706"
      ]
     },
     "execution_count": 14,
     "metadata": {},
     "output_type": "execute_result"
    }
   ],
   "source": [
    "# Среднее\n",
    "data[\"price\"].mean()"
   ]
  },
  {
   "cell_type": "code",
   "execution_count": 15,
   "metadata": {},
   "outputs": [
    {
     "data": {
      "text/plain": [
       "10295.0"
      ]
     },
     "execution_count": 15,
     "metadata": {},
     "output_type": "execute_result"
    }
   ],
   "source": [
    "# медиана\n",
    "data[\"price\"].median()"
   ]
  },
  {
   "cell_type": "code",
   "execution_count": 16,
   "metadata": {},
   "outputs": [
    {
     "data": {
      "text/plain": [
       "63821761.57839796"
      ]
     },
     "execution_count": 16,
     "metadata": {},
     "output_type": "execute_result"
    }
   ],
   "source": [
    "# дисперсия\n",
    "data[\"price\"].var()"
   ]
  },
  {
   "cell_type": "code",
   "execution_count": 17,
   "metadata": {},
   "outputs": [
    {
     "data": {
      "text/plain": [
       "2721725.667"
      ]
     },
     "execution_count": 17,
     "metadata": {},
     "output_type": "execute_result"
    }
   ],
   "source": [
    "# сумма\n",
    "data[\"price\"].sum()"
   ]
  },
  {
   "cell_type": "code",
   "execution_count": 18,
   "metadata": {},
   "outputs": [
    {
     "data": {
      "text/plain": [
       "205"
      ]
     },
     "execution_count": 18,
     "metadata": {},
     "output_type": "execute_result"
    }
   ],
   "source": [
    "# Колличество элементов\n",
    "len(data[\"price\"])"
   ]
  },
  {
   "cell_type": "code",
   "execution_count": 19,
   "metadata": {},
   "outputs": [
    {
     "data": {
      "text/plain": [
       "13276.710570731706"
      ]
     },
     "execution_count": 19,
     "metadata": {},
     "output_type": "execute_result"
    }
   ],
   "source": [
    "data[\"price\"].sum() / len(data[\"price\"])"
   ]
  },
  {
   "cell_type": "code",
   "execution_count": 20,
   "metadata": {},
   "outputs": [
    {
     "data": {
      "text/plain": [
       "6.54214165300162"
      ]
     },
     "execution_count": 20,
     "metadata": {},
     "output_type": "execute_result"
    }
   ],
   "source": [
    "data[\"citympg\"].std()"
   ]
  },
  {
   "cell_type": "code",
   "execution_count": null,
   "metadata": {},
   "outputs": [],
   "source": [
    "# data[\"CarName\"].mean()"
   ]
  },
  {
   "cell_type": "markdown",
   "metadata": {},
   "source": [
    "<div class=\"alert alert-info\">\n",
    "\n",
    "Этим список не ограничевается!"
   ]
  },
  {
   "cell_type": "markdown",
   "metadata": {},
   "source": [
    "# Способы визуализации распределения данных "
   ]
  },
  {
   "cell_type": "markdown",
   "metadata": {},
   "source": [
    "## Гистограммы"
   ]
  },
  {
   "cell_type": "code",
   "execution_count": 22,
   "metadata": {},
   "outputs": [
    {
     "data": {
      "text/plain": [
       "<Axes: ylabel='Frequency'>"
      ]
     },
     "execution_count": 22,
     "metadata": {},
     "output_type": "execute_result"
    },
    {
     "data": {
      "image/png": "[encoded data removed]",
      "text/plain": [
       "<Figure size 640x480 with 1 Axes>"
      ]
     },
     "metadata": {},
     "output_type": "display_data"
    }
   ],
   "source": [
    "data[\"price\"].plot.hist()"
   ]
  },
  {
   "cell_type": "code",
   "execution_count": 23,
   "metadata": {},
   "outputs": [
    {
     "data": {
      "text/plain": [
       "Index(['car_ID', 'symboling', 'CarName', 'fueltype', 'aspiration',\n",
       "       'doornumber', 'carbody', 'drivewheel', 'enginelocation', 'wheelbase',\n",
       "       'carlength', 'carwidth', 'carheight', 'curbweight', 'enginetype',\n",
       "       'cylindernumber', 'enginesize', 'fuelsystem', 'boreratio', 'stroke',\n",
       "       'compressionratio', 'horsepower', 'peakrpm', 'citympg', 'highwaympg',\n",
       "       'price'],\n",
       "      dtype='object')"
      ]
     },
     "execution_count": 23,
     "metadata": {},
     "output_type": "execute_result"
    }
   ],
   "source": [
    "data.columns"
   ]
  },
  {
   "cell_type": "code",
   "execution_count": 24,
   "metadata": {},
   "outputs": [
    {
     "data": {
      "text/plain": [
       "<Axes: ylabel='Frequency'>"
      ]
     },
     "execution_count": 24,
     "metadata": {},
     "output_type": "execute_result"
    },
    {
     "data": {
      "image/png": "[encoded data removed]",
      "text/plain": [
       "<Figure size 640x480 with 1 Axes>"
      ]
     },
     "metadata": {},
     "output_type": "display_data"
    }
   ],
   "source": [
    "data[\"carlength\"].plot.hist()"
   ]
  },
  {
   "cell_type": "code",
   "execution_count": 25,
   "metadata": {},
   "outputs": [
    {
     "data": {
      "text/plain": [
       "<Axes: >"
      ]
     },
     "execution_count": 25,
     "metadata": {},
     "output_type": "execute_result"
    },
    {
     "data": {
      "image/png": "[encoded data removed]",
      "text/plain": [
       "<Figure size 640x480 with 1 Axes>"
      ]
     },
     "metadata": {},
     "output_type": "display_data"
    }
   ],
   "source": [
    "data[\"CarName\"].hist()"
   ]
  },
  {
   "cell_type": "code",
   "execution_count": 26,
   "metadata": {},
   "outputs": [
    {
     "data": {
      "text/plain": [
       "CarName\n",
       "toyota corona           6\n",
       "toyota corolla          6\n",
       "peugeot 504             6\n",
       "subaru dl               4\n",
       "mitsubishi mirage g4    3\n",
       "                       ..\n",
       "mazda glc 4             1\n",
       "mazda rx2 coupe         1\n",
       "maxda glc deluxe        1\n",
       "maxda rx3               1\n",
       "volvo 246               1\n",
       "Name: count, Length: 147, dtype: int64"
      ]
     },
     "execution_count": 26,
     "metadata": {},
     "output_type": "execute_result"
    }
   ],
   "source": [
    "data[\"CarName\"].value_counts()"
   ]
  },
  {
   "cell_type": "code",
   "execution_count": 27,
   "metadata": {},
   "outputs": [
    {
     "name": "stdout",
     "output_type": "stream",
     "text": [
      "toyota corona - 6\n",
      "toyota corolla - 6\n",
      "peugeot 504 - 6\n",
      "subaru dl - 4\n",
      "mitsubishi mirage g4 - 3\n",
      "mazda 626 - 3\n",
      "toyota mark ii - 3\n",
      "mitsubishi outlander - 3\n",
      "mitsubishi g4 - 3\n",
      "honda civic - 3\n",
      "volvo 264gl - 2\n",
      "bmw 320i - 2\n",
      "isuzu D-Max  - 2\n",
      "audi 100ls - 2\n",
      "volvo 244dl - 2\n",
      "porsche cayenne - 2\n",
      "toyota corolla liftback - 2\n",
      "honda accord - 2\n",
      "bmw x3 - 2\n",
      "volvo 144ea - 2\n",
      "volvo 145e (sw) - 2\n",
      "honda civic cvcc - 2\n",
      "saab 99le - 2\n",
      "toyota starlet - 2\n",
      "saab 99gle - 2\n",
      "toyota corolla 1200 - 2\n",
      "mazda rx-4 - 2\n",
      "mazda glc deluxe - 2\n",
      "nissan rogue - 2\n",
      "nissan latio - 2\n",
      "mazda glc - 2\n",
      "mazda rx-7 gs - 2\n",
      "plymouth fury iii - 2\n",
      "volkswagen dasher - 2\n",
      "subaru - 2\n",
      "nissan clipper - 2\n",
      "peugeot 604sl - 2\n",
      "saab 99e - 2\n",
      "peugeot 304 - 1\n",
      "peugeot 504 (sw) - 1\n",
      "renault 5 gtl - 1\n",
      "renault 12tl - 1\n",
      "porsche boxter - 1\n",
      "subaru brz - 1\n",
      "porsche macan - 1\n",
      "plymouth duster - 1\n",
      "plymouth valiant - 1\n",
      "plymouth fury gran sedan - 1\n",
      "plymouth satellite custom (sw) - 1\n",
      "plymouth cricket - 1\n",
      "peugeot 505s turbo diesel - 1\n",
      "porcshce panamera - 1\n",
      "toyota corona mark ii - 1\n",
      "subaru baja - 1\n",
      "toyota celica gt - 1\n",
      "volvo 245 - 1\n",
      "volkswagen rabbit custom - 1\n",
      "volkswagen rabbit - 1\n",
      "vw rabbit - 1\n",
      "vw dasher - 1\n",
      "volkswagen super beetle - 1\n",
      "volkswagen 411 (sw) - 1\n",
      "volkswagen type 3 - 1\n",
      "volkswagen model 111 - 1\n",
      "volkswagen 1131 deluxe sedan - 1\n",
      "vokswagen rabbit - 1\n",
      "toyouta tercel - 1\n",
      "toyota cressida - 1\n",
      "subaru r1 - 1\n",
      "toyota tercel - 1\n",
      "toyota corona liftback - 1\n",
      "toyota corolla tercel - 1\n",
      "toyota celica gt liftback - 1\n",
      "volvo diesel - 1\n",
      "toyota carina - 1\n",
      "toyota corolla 1600 (sw) - 1\n",
      "toyota corona hardtop - 1\n",
      "nissan kicks - 1\n",
      "subaru tribeca - 1\n",
      "subaru trezia - 1\n",
      "subaru r2 - 1\n",
      "alfa-romero giulia - 1\n",
      "nissan titan - 1\n",
      "nissan teana - 1\n",
      "nissan otti - 1\n",
      "isuzu MU-X - 1\n",
      "honda civic (auto) - 1\n",
      "honda prelude - 1\n",
      "honda civic 1300 - 1\n",
      "honda civic 1500 gl - 1\n",
      "honda accord lx - 1\n",
      "honda accord cvcc - 1\n",
      "dodge coronet custom (sw) - 1\n",
      "dodge dart custom - 1\n",
      "dodge coronet custom - 1\n",
      "dodge colt (sw) - 1\n",
      "dodge colt hardtop - 1\n",
      "dodge monaco (sw) - 1\n",
      "dodge d200 - 1\n",
      "dodge challenger se - 1\n",
      "dodge rampage - 1\n",
      "chevrolet vega 2300 - 1\n",
      "chevrolet monte carlo - 1\n",
      "chevrolet impala - 1\n",
      "bmw x5 - 1\n",
      "bmw x4 - 1\n",
      "bmw z4 - 1\n",
      "bmw x1 - 1\n",
      "audi 5000s (diesel) - 1\n",
      "audi 4000 - 1\n",
      "audi 5000 - 1\n",
      "audi fox - 1\n",
      "audi 100 ls - 1\n",
      "alfa-romero Quadrifoglio - 1\n",
      "isuzu D-Max V-Cross - 1\n",
      "jaguar xj - 1\n",
      "jaguar xf - 1\n",
      "mercury cougar - 1\n",
      "nissan fuga - 1\n",
      "nissan dayz - 1\n",
      "nissan nv200 - 1\n",
      "nissan note - 1\n",
      "nissan juke - 1\n",
      "nissan leaf - 1\n",
      "alfa-romero stelvio - 1\n",
      "nissan gt-r - 1\n",
      "Nissan versa - 1\n",
      "mitsubishi pajero - 1\n",
      "mitsubishi montero - 1\n",
      "mitsubishi lancer - 1\n",
      "mitsubishi mirage - 1\n",
      "buick regal sport coupe (turbo) - 1\n",
      "jaguar xk - 1\n",
      "buick century special - 1\n",
      "buick skylark - 1\n",
      "buick opel isuzu deluxe - 1\n",
      "buick skyhawk - 1\n",
      "buick century - 1\n",
      "buick century luxus (sw) - 1\n",
      "buick electra 225 custom - 1\n",
      "mazda glc custom - 1\n",
      "mazda glc custom l - 1\n",
      "mazda glc 4 - 1\n",
      "mazda rx2 coupe - 1\n",
      "maxda glc deluxe - 1\n",
      "maxda rx3 - 1\n",
      "volvo 246 - 1\n"
     ]
    }
   ],
   "source": [
    "for car_name, car_cnt in zip(\n",
    "    data[\"CarName\"].value_counts().index, data[\"CarName\"].value_counts().values\n",
    "):\n",
    "    print(car_name, \"-\", car_cnt)"
   ]
  },
  {
   "cell_type": "code",
   "execution_count": 28,
   "metadata": {},
   "outputs": [],
   "source": [
    "# добавим параметров. Взможные параметры можно увидеть с помощью команды Shift + tab"
   ]
  },
  {
   "cell_type": "code",
   "execution_count": 29,
   "metadata": {},
   "outputs": [
    {
     "data": {
      "text/plain": [
       "<Axes: ylabel='Frequency'>"
      ]
     },
     "execution_count": 29,
     "metadata": {},
     "output_type": "execute_result"
    },
    {
     "data": {
      "image/png": "[encoded data removed]",
      "text/plain": [
       "<Figure size 640x480 with 1 Axes>"
      ]
     },
     "metadata": {},
     "output_type": "display_data"
    }
   ],
   "source": [
    "data[\"price\"].plot.hist(bins=25, alpha=0.5, density=True)"
   ]
  },
  {
   "cell_type": "markdown",
   "metadata": {},
   "source": [
    "## Боксплот - Ящики с усами. \n",
    "\n",
    "### Где тут усы? Где тут выбросы?"
   ]
  },
  {
   "cell_type": "markdown",
   "metadata": {},
   "source": [
    "<p style=\"align: center;\"><img align=center src=\"https://static.tildacdn.com/tild3366-6434-4530-a163-613065363237/boxplot.jpg\"  width=1000></p>\n",
    "\n"
   ]
  },
  {
   "cell_type": "markdown",
   "metadata": {},
   "source": [
    "<div class=\"alert alert-info\">\n",
    "\n",
    "    \n",
    "**Выброс** — это такая точка, которая существенно отличается от большинства значений, взятых из выборки или совокупности. Есть множество возможных причин появления выбросов и вот для начала только несколько:\n",
    "\n",
    "* Естественные выбросы данных.\n",
    "* Изменение поведения наблюдаемой системы.\n",
    "* Ошибки при сборе данных."
   ]
  },
  {
   "cell_type": "code",
   "execution_count": 30,
   "metadata": {},
   "outputs": [
    {
     "data": {
      "text/plain": [
       "{'whiskers': [<matplotlib.lines.Line2D at 0x7fd27b41f170>,\n",
       "  <matplotlib.lines.Line2D at 0x7fd27b2f0260>],\n",
       " 'caps': [<matplotlib.lines.Line2D at 0x7fd27b2f03e0>,\n",
       "  <matplotlib.lines.Line2D at 0x7fd27b2f06e0>],\n",
       " 'boxes': [<matplotlib.lines.Line2D at 0x7fd27b4bfd70>],\n",
       " 'medians': [<matplotlib.lines.Line2D at 0x7fd27b2f0a10>],\n",
       " 'fliers': [<matplotlib.lines.Line2D at 0x7fd27b2f0cb0>],\n",
       " 'means': []}"
      ]
     },
     "execution_count": 30,
     "metadata": {},
     "output_type": "execute_result"
    },
    {
     "data": {
      "image/png": "[encoded data removed]",
      "text/plain": [
       "<Figure size 800x600 with 1 Axes>"
      ]
     },
     "metadata": {},
     "output_type": "display_data"
    }
   ],
   "source": [
    "plt.figure(figsize=(8, 6))\n",
    "plt.boxplot(data[\"price\"])"
   ]
  },
  {
   "cell_type": "code",
   "execution_count": 41,
   "metadata": {},
   "outputs": [
    {
     "data": {
      "text/plain": [
       "{'whiskers': [<matplotlib.lines.Line2D at 0x7fd27af37da0>,\n",
       "  <matplotlib.lines.Line2D at 0x7fd27af3c110>],\n",
       " 'caps': [<matplotlib.lines.Line2D at 0x7fd27af3c3b0>,\n",
       "  <matplotlib.lines.Line2D at 0x7fd27af3c6e0>],\n",
       " 'boxes': [<matplotlib.lines.Line2D at 0x7fd27b0a8e90>],\n",
       " 'medians': [<matplotlib.lines.Line2D at 0x7fd27af3caa0>],\n",
       " 'fliers': [<matplotlib.lines.Line2D at 0x7fd27af3cbf0>],\n",
       " 'means': []}"
      ]
     },
     "execution_count": 41,
     "metadata": {},
     "output_type": "execute_result"
    },
    {
     "data": {
      "image/png": "[encoded data removed]",
      "text/plain": [
       "<Figure size 800x600 with 1 Axes>"
      ]
     },
     "metadata": {},
     "output_type": "display_data"
    }
   ],
   "source": [
    "plt.figure(figsize=(8, 6))\n",
    "plt.boxplot(data[\"price\"])\n",
    "# ; убирает ненужные пояснения"
   ]
  },
  {
   "cell_type": "markdown",
   "metadata": {},
   "source": [
    "# Как доказать гипотезу, что цена на топливо зависит от типа топлива?"
   ]
  },
  {
   "cell_type": "code",
   "execution_count": 43,
   "metadata": {},
   "outputs": [
    {
     "data": {
      "text/plain": [
       "<Axes: xlabel='fueltype', ylabel='price'>"
      ]
     },
     "execution_count": 43,
     "metadata": {},
     "output_type": "execute_result"
    },
    {
     "data": {
      "image/png": "[encoded data removed]",
      "text/plain": [
       "<Figure size 640x480 with 1 Axes>"
      ]
     },
     "metadata": {},
     "output_type": "display_data"
    }
   ],
   "source": [
    "sns.boxplot(data=data, y=\"price\", color=\"g\", x=\"fueltype\")"
   ]
  },
  {
   "cell_type": "code",
   "execution_count": 33,
   "metadata": {},
   "outputs": [
    {
     "data": {
      "text/html": [
       "<div>\n",
       "<style scoped>\n",
       "    .dataframe tbody tr th:only-of-type {\n",
       "        vertical-align: middle;\n",
       "    }\n",
       "\n",
       "    .dataframe tbody tr th {\n",
       "        vertical-align: top;\n",
       "    }\n",
       "\n",
       "    .dataframe thead th {\n",
       "        text-align: right;\n",
       "    }\n",
       "</style>\n",
       "<table border=\"1\" class=\"dataframe\">\n",
       "  <thead>\n",
       "    <tr style=\"text-align: right;\">\n",
       "      <th></th>\n",
       "      <th>fueltype</th>\n",
       "      <th>price</th>\n",
       "      <th>horsepower</th>\n",
       "    </tr>\n",
       "  </thead>\n",
       "  <tbody>\n",
       "    <tr>\n",
       "      <th>0</th>\n",
       "      <td>diesel</td>\n",
       "      <td>15838.1500</td>\n",
       "      <td>123</td>\n",
       "    </tr>\n",
       "    <tr>\n",
       "      <th>1</th>\n",
       "      <td>gas</td>\n",
       "      <td>12999.7982</td>\n",
       "      <td>288</td>\n",
       "    </tr>\n",
       "  </tbody>\n",
       "</table>\n",
       "</div>"
      ],
      "text/plain": [
       "  fueltype       price  horsepower\n",
       "0   diesel  15838.1500         123\n",
       "1      gas  12999.7982         288"
      ]
     },
     "execution_count": 33,
     "metadata": {},
     "output_type": "execute_result"
    }
   ],
   "source": [
    "def my_func(x):\n",
    "    return max(x)\n",
    "\n",
    "\n",
    "data.groupby(\"fueltype\", as_index=False).agg(\n",
    "    {\n",
    "        \"price\": \"mean\",\n",
    "        \"horsepower\": my_func,\n",
    "    }\n",
    ")"
   ]
  },
  {
   "cell_type": "markdown",
   "metadata": {},
   "source": [
    "<p style=\"align: center;\"><img align=center src=\"https://static.tildacdn.com/tild6533-3362-4632-b632-333165363837/image.png\"  width=900></p>\n"
   ]
  },
  {
   "cell_type": "code",
   "execution_count": 34,
   "metadata": {},
   "outputs": [
    {
     "data": {
      "text/plain": [
       "<Axes: xlabel='horsepower', ylabel='price'>"
      ]
     },
     "execution_count": 34,
     "metadata": {},
     "output_type": "execute_result"
    },
    {
     "data": {
      "image/png": "[encoded data removed]",
      "text/plain": [
       "<Figure size 640x480 with 1 Axes>"
      ]
     },
     "metadata": {},
     "output_type": "display_data"
    }
   ],
   "source": [
    "data.plot.scatter(y=\"price\", x=\"horsepower\", c=\"DarkBlue\")"
   ]
  },
  {
   "cell_type": "code",
   "execution_count": 35,
   "metadata": {},
   "outputs": [
    {
     "data": {
      "text/plain": [
       "<Axes: xlabel='horsepower', ylabel='price'>"
      ]
     },
     "execution_count": 35,
     "metadata": {},
     "output_type": "execute_result"
    },
    {
     "data": {
      "image/png": "[encoded data removed]",
      "text/plain": [
       "<Figure size 640x480 with 1 Axes>"
      ]
     },
     "metadata": {},
     "output_type": "display_data"
    }
   ],
   "source": [
    "data.plot.scatter(y=\"price\", x=\"horsepower\", c=\"Red\")"
   ]
  },
  {
   "cell_type": "markdown",
   "metadata": {},
   "source": [
    "# Квантили, квартил, процентил и медиана"
   ]
  },
  {
   "cell_type": "markdown",
   "metadata": {},
   "source": [
    "<div class=\"alert alert-info\">\n",
    "\n",
    "<!-- <b>Программа семинара: </b> -->\n",
    "    \n",
    "**Кванти́ль** — значение, которое заданная случайная величина не превышает с фиксированной вероятностью.\n",
    "\n",
    "**Пример:** 80%-й квантиль выхода из строя станков на заводе равен три года - Это фраза значит, что 80% станков выходит из строя в течение первых трех лет, остальные 20% станков работают больше 3 лет\n",
    "\n",
    "\n",
    "</div>\n",
    "\n",
    "\n"
   ]
  },
  {
   "cell_type": "markdown",
   "metadata": {},
   "source": [
    "<p style=\"align: center;\"><img align=center src=\"https://present5.com/presentation/3/120980285_176628086.pdf-img/120980285_176628086.pdf-43.jpg\"  width=500></p>\n"
   ]
  },
  {
   "cell_type": "markdown",
   "metadata": {},
   "source": [
    "<div class=\"alert alert-info\">\n",
    "\n",
    "**Квартиль** - это квантиль кратный 0.25 (четверти) \n",
    "    \n",
    "    \n",
    "**Процентиль** - это квантиль выраженный в процентах. Пример 40% процентиль или 0.40 квантиль\n",
    "\n",
    "**Размах**, полученный из процентилей - растояние между двуменя процентилями    \n",
    "    \n",
    "</div>\n",
    "\n"
   ]
  },
  {
   "cell_type": "code",
   "execution_count": 36,
   "metadata": {},
   "outputs": [
    {
     "data": {
      "text/plain": [
       "10295.0"
      ]
     },
     "execution_count": 36,
     "metadata": {},
     "output_type": "execute_result"
    }
   ],
   "source": [
    "np.quantile(data[\"price\"], 0.5)  #"
   ]
  },
  {
   "cell_type": "code",
   "execution_count": 37,
   "metadata": {},
   "outputs": [
    {
     "data": {
      "text/plain": [
       "10295.0"
      ]
     },
     "execution_count": 37,
     "metadata": {},
     "output_type": "execute_result"
    }
   ],
   "source": [
    "data[\"price\"].median()"
   ]
  },
  {
   "cell_type": "code",
   "execution_count": 38,
   "metadata": {},
   "outputs": [
    {
     "data": {
      "text/plain": [
       "32472.399999999994"
      ]
     },
     "execution_count": 38,
     "metadata": {},
     "output_type": "execute_result"
    }
   ],
   "source": [
    "np.quantile(data[\"price\"], 0.95)"
   ]
  },
  {
   "cell_type": "code",
   "execution_count": null,
   "metadata": {},
   "outputs": [],
   "source": []
  },
  {
   "cell_type": "code",
   "execution_count": null,
   "metadata": {},
   "outputs": [],
   "source": []
  },
  {
   "cell_type": "markdown",
   "metadata": {},
   "source": [
    "# Дополнительных материалов\n",
    "\n",
    "<div class=\"alert alert-info\">\n",
    "\n",
    "В качестве дополнительных материалов рекомендуется изучать самые популярные методы в Pandas"
   ]
  },
  {
   "cell_type": "markdown",
   "metadata": {},
   "source": [
    "<p style=\"align: center;\"><img align=center src=\"https://i0.wp.com/learnbyinsight.com/wp-content/uploads/2020/08/pandas-cheetsheet2.png?ssl=1_lesson.ipynb\"  width=1000></p>\n",
    "\n"
   ]
  }
 ],
 "metadata": {
  "kernelspec": {
   "display_name": "Python 3",
   "language": "python",
   "name": "python3"
  },
  "language_info": {
   "codemirror_mode": {
    "name": "ipython",
    "version": 3
   },
   "file_extension": ".py",
   "mimetype": "text/x-python",
   "name": "python",
   "nbconvert_exporter": "python",
   "pygments_lexer": "ipython3",
   "version": "3.12.5"
  },
  "toc": {
   "base_numbering": 1,
   "nav_menu": {},
   "number_sections": true,
   "sideBar": true,
   "skip_h1_title": false,
   "title_cell": "Table of Contents",
   "title_sidebar": "Contents",
   "toc_cell": false,
   "toc_position": {},
   "toc_section_display": true,
   "toc_window_display": false
  }
 },
 "nbformat": 4,
 "nbformat_minor": 4
}
