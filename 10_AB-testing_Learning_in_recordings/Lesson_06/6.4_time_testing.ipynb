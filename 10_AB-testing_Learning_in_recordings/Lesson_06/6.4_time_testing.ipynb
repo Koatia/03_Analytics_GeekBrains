{
 "cells": [
  {
   "cell_type": "markdown",
   "metadata": {},
   "source": [
    "<p style=\"align: center;\"><img align=center src=\"https://mailfit.com/wp-content/uploads/2019/11/lego-5.png\"  width=900></p>\n",
    "<h1 style=\"text-align: center;\"><b>«Сроки тестирования»</b></h3>\n"
   ]
  },
  {
   "cell_type": "code",
   "metadata": {
    "ExecuteTime": {
     "end_time": "2024-09-29T17:33:43.798909Z",
     "start_time": "2024-09-29T17:33:43.796705Z"
    }
   },
   "source": [
    "import numpy as np\n",
    "import pandas as pd\n",
    "from scipy import stats\n",
    "import seaborn as sns\n",
    "import matplotlib.pyplot as plt"
   ],
   "outputs": [],
   "execution_count": 10
  },
  {
   "cell_type": "markdown",
   "metadata": {},
   "source": [
    "# Определение размера выборки"
   ]
  },
  {
   "cell_type": "markdown",
   "metadata": {},
   "source": [
    "<div class=\"alert alert-info\">\n",
    "    \n",
    "Мы уже разбирали онлайн калькуляторы, которые работают как черные ящики.\n",
    "\n",
    "Давайте реализуем свою функцию для подсчета необходимого количества наблюдений и проверкой статистической значимости в эффекте.\n",
    "\n",
    "Результаты сравним с уже известным нам онлайн-калькулятором - https://www.evanmiller.org/ab-testing/"
   ]
  },
  {
   "cell_type": "markdown",
   "metadata": {},
   "source": [
    "<div class=\"alert alert-info\">\n",
    "    \n",
    "<b>Реализация: </b>  \n",
    "\n",
    "$$\n",
    "n = \\left( \\frac{\\sqrt{p_0 \\cdot (1 - p_0) } \\cdot z_{1 - \\alpha} + \\sqrt{p_a \\cdot (1 - p_a) } \\cdot z_{1 - \\beta} }{p_a - p_0}  \\right)^2\n",
    "$$\n",
    "\n",
    "Напишем функцию, которая по конкретным $p_a$, $\\alpha$ и $\\beta$ говорит нам сколько наблюдений нужно собрать.\n",
    "\n",
    "где $ p_a = BCR $ - базовая конверсия, $ p = MDE $ - абсолютный эффект "
   ]
  },
  {
   "cell_type": "code",
   "metadata": {
    "ExecuteTime": {
     "end_time": "2024-09-29T17:33:43.846428Z",
     "start_time": "2024-09-29T17:33:43.843742Z"
    }
   },
   "source": [
    "alpha = 0.05\n",
    "beta = 80\n",
    "\n",
    "def find_n(p0, pa, alpha=0.05, beta=0.05):\n",
    "    za = stats.norm().ppf(1 - alpha)\n",
    "    zb = stats.norm().ppf(1 - beta)\n",
    "    sn = (np.sqrt(p0*(1 - p0))* za + np.sqrt(pa*(1 - pa))* zb)/(pa - p0)\n",
    "    return sn**2"
   ],
   "outputs": [],
   "execution_count": 11
  },
  {
   "cell_type": "code",
   "metadata": {
    "ExecuteTime": {
     "end_time": "2024-09-29T17:35:30.999375Z",
     "start_time": "2024-09-29T17:35:30.993909Z"
    }
   },
   "source": [
    "BCR = 84 / 100 # базовая конверсия в процентах\n",
    "MDE = 94 / 100  # желанный эффект\n",
    "\n",
    "find_n(BCR, MDE, alpha=0.05, beta=0.2)"
   ],
   "outputs": [
    {
     "data": {
      "text/plain": [
       "64.46279665832425"
      ]
     },
     "execution_count": 19,
     "metadata": {},
     "output_type": "execute_result"
    }
   ],
   "execution_count": 19
  },
  {
   "cell_type": "code",
   "metadata": {
    "ExecuteTime": {
     "end_time": "2024-09-29T17:33:44.015834Z",
     "start_time": "2024-09-29T17:33:44.009161Z"
    }
   },
   "source": [
    "find_n(0.5, 0.6, alpha=0.05, beta=0.05)"
   ],
   "outputs": [
    {
     "data": {
      "text/plain": [
       "265.11564803989296"
      ]
     },
     "execution_count": 13,
     "metadata": {},
     "output_type": "execute_result"
    }
   ],
   "execution_count": 13
  },
  {
   "cell_type": "code",
   "metadata": {
    "ExecuteTime": {
     "end_time": "2024-09-29T17:33:44.125266Z",
     "start_time": "2024-09-29T17:33:44.120740Z"
    }
   },
   "source": [
    "find_n(0.5, 0.6, alpha=0.01, beta=0.01)"
   ],
   "outputs": [
    {
     "data": {
      "text/plain": [
       "530.3104250795232"
      ]
     },
     "execution_count": 14,
     "metadata": {},
     "output_type": "execute_result"
    }
   ],
   "execution_count": 14
  },
  {
   "cell_type": "code",
   "metadata": {
    "ExecuteTime": {
     "end_time": "2024-09-29T17:33:44.275761Z",
     "start_time": "2024-09-29T17:33:44.271187Z"
    }
   },
   "source": [
    "find_n(0.5, 0.51, alpha=0.01, beta=0.01)"
   ],
   "outputs": [
    {
     "data": {
      "text/plain": [
       "54108.11998038348"
      ]
     },
     "execution_count": 15,
     "metadata": {},
     "output_type": "execute_result"
    }
   ],
   "execution_count": 15
  },
  {
   "cell_type": "markdown",
   "metadata": {},
   "source": [
    "- Чем меньше ошибки 1-го и 2-го рода, тем больше наблюдений нам нужно\n",
    "- Чем ниже размер эффекта, который мы хотим детектировать $MDE - BCR$, тем больше наблюдений нам нужно"
   ]
  },
  {
   "cell_type": "markdown",
   "metadata": {},
   "source": [
    "<div class=\"alert alert-info\">\n",
    "    \n",
    "<b>Онлайн-калькулятор: </b>  \n",
    "\n",
    "Сравним с результатом https://www.evanmiller.org/ab-testing/sample-size.html"
   ]
  },
  {
   "cell_type": "markdown",
   "metadata": {},
   "source": [
    "<div class=\"alert alert-info\">\n",
    "    \n",
    "<b>Пример: </b>    \n",
    "    \n",
    "Менеджер Алеше планирует проверить правда ли Джеймс Бонд отличает взболтанный мартини от смешанного. Алеша полагает, что если Бонд правда умеет различать напитки, то размер эффекта должен быть как минимум $0.2$. Алексей хотел бы получить ошибки первого и второго рода равные 1%. Сколько наблюдений ему нужно? "
   ]
  },
  {
   "cell_type": "code",
   "metadata": {
    "ExecuteTime": {
     "end_time": "2024-09-29T17:33:44.402391Z",
     "start_time": "2024-09-29T17:33:44.398714Z"
    }
   },
   "source": [
    "find_n(0.5, 0.7, alpha=0.01, beta=0.01)"
   ],
   "outputs": [
    {
     "data": {
      "text/plain": [
       "124.23782566566618"
      ]
     },
     "execution_count": 16,
     "metadata": {},
     "output_type": "execute_result"
    }
   ],
   "execution_count": 16
  },
  {
   "cell_type": "markdown",
   "metadata": {},
   "source": [
    "# Определение статистической значимости\n"
   ]
  },
  {
   "cell_type": "markdown",
   "metadata": {},
   "source": [
    "<div class=\"alert alert-info\">\n",
    "<b>Пример: </b>\n",
    "    \n",
    "Например, вы хотите проверить нет ли дискриминации \n",
    "по половому признаку в сфере Data Science.\n",
    "Вы узнали, что в какой-то компании после серии собеседований \n",
    "**107 мужчин** взяли на работу, а отказали **93-м мужчинам**. \n",
    "А среди **женщин 74** взяли, а отказали **45-ти**.\n",
    "Относится ли руководство компании \n",
    "предвзято к мужчинам или к женщинам?\n",
    "    \n",
    "</div>"
   ]
  },
  {
   "cell_type": "code",
   "metadata": {
    "ExecuteTime": {
     "end_time": "2024-09-29T17:33:44.452679Z",
     "start_time": "2024-09-29T17:33:44.450200Z"
    }
   },
   "source": [
    "table = [[107, 93], [74, 45]]\n",
    "\n",
    "\n",
    "ch2, pvalue, dof, expected= stats.chi2_contingency(table)\n",
    "\n",
    "if pvalue < 0.05:\n",
    "    print('Да, правда!')\n",
    "else:\n",
    "    print('Сексизма нет!')"
   ],
   "outputs": [
    {
     "name": "stdout",
     "output_type": "stream",
     "text": [
      "Сексизма нет!\n"
     ]
    }
   ],
   "execution_count": 17
  },
  {
   "cell_type": "markdown",
   "metadata": {},
   "source": [
    "<div class=\"alert alert-info\">\n",
    "    \n",
    "<b>Онлайн-калькулятор: </b>  \n",
    "\n",
    "Сравним с https://www.evanmiller.org/ab-testing/chi-squared.html"
   ]
  },
  {
   "cell_type": "markdown",
   "metadata": {},
   "source": [
    " "
   ]
  },
  {
   "cell_type": "markdown",
   "metadata": {},
   "source": [
    "# Сроки проведения эксперимента"
   ]
  },
  {
   "cell_type": "markdown",
   "metadata": {},
   "source": [
    "Что ж, теперь зная сколько данных вам надо собрать, вы можете оценить сколько времени на это потребуется. Тут все зависит от компании и ее потока клиентов. В любом случае формула такая:\n",
    "\n",
    "$$t = \\frac{N}{v_n}$$\n"
   ]
  },
  {
   "cell_type": "code",
   "metadata": {
    "ExecuteTime": {
     "end_time": "2024-09-29T17:33:44.502797Z",
     "start_time": "2024-09-29T17:33:44.500689Z"
    }
   },
   "source": [
    "N = 5000 # Объем выборки\n",
    "V_n = 400 # скорость сбора данных за день\n",
    "\n",
    "t = N/V_n\n",
    "t  # Столько дней нам понадобиться для проведения тестирования"
   ],
   "outputs": [
    {
     "data": {
      "text/plain": [
       "12.5"
      ]
     },
     "execution_count": 18,
     "metadata": {},
     "output_type": "execute_result"
    }
   ],
   "execution_count": 18
  },
  {
   "cell_type": "markdown",
   "metadata": {},
   "source": [
    "# Итоги и выводы\n",
    "\n",
    "\n",
    "* Разобрали, как использовать python для определения объема выборок\n",
    "* Изучили, как можно проверять онлайн калькуляторы с помощью Python. \n"
   ]
  },
  {
   "cell_type": "code",
   "metadata": {
    "ExecuteTime": {
     "end_time": "2024-09-29T17:33:44.550527Z",
     "start_time": "2024-09-29T17:33:44.548844Z"
    }
   },
   "source": [],
   "outputs": [],
   "execution_count": null
  },
  {
   "cell_type": "code",
   "metadata": {
    "ExecuteTime": {
     "end_time": "2024-09-29T17:33:44.596414Z",
     "start_time": "2024-09-29T17:33:44.594738Z"
    }
   },
   "source": [
    " "
   ],
   "outputs": [],
   "execution_count": 18
  }
 ],
 "metadata": {
  "kernelspec": {
   "display_name": "Python 3",
   "language": "python",
   "name": "python3"
  },
  "language_info": {
   "codemirror_mode": {
    "name": "ipython",
    "version": 3
   },
   "file_extension": ".py",
   "mimetype": "text/x-python",
   "name": "python",
   "nbconvert_exporter": "python",
   "pygments_lexer": "ipython3",
   "version": "3.8.5"
  },
  "toc": {
   "base_numbering": 1,
   "nav_menu": {},
   "number_sections": true,
   "sideBar": true,
   "skip_h1_title": false,
   "title_cell": "Table of Contents",
   "title_sidebar": "Contents",
   "toc_cell": false,
   "toc_position": {},
   "toc_section_display": true,
   "toc_window_display": false
  }
 },
 "nbformat": 4,
 "nbformat_minor": 4
}
