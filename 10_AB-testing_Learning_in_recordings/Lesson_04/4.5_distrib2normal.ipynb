{
 "cells": [
  {
   "cell_type": "markdown",
   "metadata": {},
   "source": [
    "<p style=\"align: center;\"><img align=center src=\"https://mailfit.com/wp-content/uploads/2019/11/lego-5.png\"  width=900></p>\n",
    "<h1 style=\"text-align: center;\"><b>«Практика. Применение простых инструментов для работы с ненормальными распределениями»</b></h3>\n"
   ]
  },
  {
   "cell_type": "code",
   "metadata": {
    "ExecuteTime": {
     "end_time": "2024-09-28T19:17:46.861103Z",
     "start_time": "2024-09-28T19:17:46.857834Z"
    }
   },
   "source": [
    "import numpy as np\n",
    "import pandas as pd  # для работы с таблицами\n",
    "\n",
    "from scipy import stats  # При работе со статистикой\n",
    "\n",
    "import matplotlib.pyplot as plt  # Библиотека для визуализации результатов \n",
    "import seaborn as sns  # Более продвинутая библиотека для визуализации"
   ],
   "outputs": [],
   "execution_count": 6
  },
  {
   "cell_type": "markdown",
   "metadata": {},
   "source": [
    "# Рынок жилья в New York City"
   ]
  },
  {
   "cell_type": "code",
   "metadata": {
    "ExecuteTime": {
     "end_time": "2024-09-28T19:17:48.986892Z",
     "start_time": "2024-09-28T19:17:46.869581Z"
    }
   },
   "source": [
    "url = 'https://raw.githubusercontent.com/a-milenkin/datasets_for_t-tests/main/AB_NYC_2019.csv'\n",
    "df = pd.read_csv(url, on_bad_lines=\"skip\")\n",
    "df.dropna(how='any', inplace=True)\n",
    "df.head(3)"
   ],
   "outputs": [
    {
     "data": {
      "text/plain": [
       "     id                                name  host_id    host_name  \\\n",
       "0  2539  Clean & quiet apt home by the park     2787         John   \n",
       "1  2595               Skylit Midtown Castle     2845     Jennifer   \n",
       "3  3831     Cozy Entire Floor of Brownstone     4869  LisaRoxanne   \n",
       "\n",
       "  neighbourhood_group neighbourhood  latitude  longitude        room_type  \\\n",
       "0            Brooklyn    Kensington  40.64749  -73.97237     Private room   \n",
       "1           Manhattan       Midtown  40.75362  -73.98377  Entire home/apt   \n",
       "3            Brooklyn  Clinton Hill  40.68514  -73.95976  Entire home/apt   \n",
       "\n",
       "   price  minimum_nights  number_of_reviews last_review  reviews_per_month  \\\n",
       "0    149               1                  9  2018-10-19               0.21   \n",
       "1    225               1                 45  2019-05-21               0.38   \n",
       "3     89               1                270  2019-07-05               4.64   \n",
       "\n",
       "   calculated_host_listings_count  availability_365  \n",
       "0                               6               365  \n",
       "1                               2               355  \n",
       "3                               1               194  "
      ],
      "text/html": [
       "<div>\n",
       "<style scoped>\n",
       "    .dataframe tbody tr th:only-of-type {\n",
       "        vertical-align: middle;\n",
       "    }\n",
       "\n",
       "    .dataframe tbody tr th {\n",
       "        vertical-align: top;\n",
       "    }\n",
       "\n",
       "    .dataframe thead th {\n",
       "        text-align: right;\n",
       "    }\n",
       "</style>\n",
       "<table border=\"1\" class=\"dataframe\">\n",
       "  <thead>\n",
       "    <tr style=\"text-align: right;\">\n",
       "      <th></th>\n",
       "      <th>id</th>\n",
       "      <th>name</th>\n",
       "      <th>host_id</th>\n",
       "      <th>host_name</th>\n",
       "      <th>neighbourhood_group</th>\n",
       "      <th>neighbourhood</th>\n",
       "      <th>latitude</th>\n",
       "      <th>longitude</th>\n",
       "      <th>room_type</th>\n",
       "      <th>price</th>\n",
       "      <th>minimum_nights</th>\n",
       "      <th>number_of_reviews</th>\n",
       "      <th>last_review</th>\n",
       "      <th>reviews_per_month</th>\n",
       "      <th>calculated_host_listings_count</th>\n",
       "      <th>availability_365</th>\n",
       "    </tr>\n",
       "  </thead>\n",
       "  <tbody>\n",
       "    <tr>\n",
       "      <th>0</th>\n",
       "      <td>2539</td>\n",
       "      <td>Clean &amp; quiet apt home by the park</td>\n",
       "      <td>2787</td>\n",
       "      <td>John</td>\n",
       "      <td>Brooklyn</td>\n",
       "      <td>Kensington</td>\n",
       "      <td>40.64749</td>\n",
       "      <td>-73.97237</td>\n",
       "      <td>Private room</td>\n",
       "      <td>149</td>\n",
       "      <td>1</td>\n",
       "      <td>9</td>\n",
       "      <td>2018-10-19</td>\n",
       "      <td>0.21</td>\n",
       "      <td>6</td>\n",
       "      <td>365</td>\n",
       "    </tr>\n",
       "    <tr>\n",
       "      <th>1</th>\n",
       "      <td>2595</td>\n",
       "      <td>Skylit Midtown Castle</td>\n",
       "      <td>2845</td>\n",
       "      <td>Jennifer</td>\n",
       "      <td>Manhattan</td>\n",
       "      <td>Midtown</td>\n",
       "      <td>40.75362</td>\n",
       "      <td>-73.98377</td>\n",
       "      <td>Entire home/apt</td>\n",
       "      <td>225</td>\n",
       "      <td>1</td>\n",
       "      <td>45</td>\n",
       "      <td>2019-05-21</td>\n",
       "      <td>0.38</td>\n",
       "      <td>2</td>\n",
       "      <td>355</td>\n",
       "    </tr>\n",
       "    <tr>\n",
       "      <th>3</th>\n",
       "      <td>3831</td>\n",
       "      <td>Cozy Entire Floor of Brownstone</td>\n",
       "      <td>4869</td>\n",
       "      <td>LisaRoxanne</td>\n",
       "      <td>Brooklyn</td>\n",
       "      <td>Clinton Hill</td>\n",
       "      <td>40.68514</td>\n",
       "      <td>-73.95976</td>\n",
       "      <td>Entire home/apt</td>\n",
       "      <td>89</td>\n",
       "      <td>1</td>\n",
       "      <td>270</td>\n",
       "      <td>2019-07-05</td>\n",
       "      <td>4.64</td>\n",
       "      <td>1</td>\n",
       "      <td>194</td>\n",
       "    </tr>\n",
       "  </tbody>\n",
       "</table>\n",
       "</div>"
      ]
     },
     "execution_count": 7,
     "metadata": {},
     "output_type": "execute_result"
    }
   ],
   "execution_count": 7
  },
  {
   "cell_type": "code",
   "metadata": {
    "ExecuteTime": {
     "end_time": "2024-09-28T19:17:49.098048Z",
     "start_time": "2024-09-28T19:17:49.007830Z"
    }
   },
   "source": "df[df.price < 500].price.hist(bins=30)",
   "outputs": [
    {
     "data": {
      "text/plain": [
       "<Axes: >"
      ]
     },
     "execution_count": 8,
     "metadata": {},
     "output_type": "execute_result"
    },
    {
     "data": {
      "text/plain": [
       "<Figure size 640x480 with 1 Axes>"
      ],
      "image/png": "[encoded data removed]"
     },
     "metadata": {},
     "output_type": "display_data"
    }
   ],
   "execution_count": 8
  },
  {
   "cell_type": "markdown",
   "metadata": {},
   "source": [
    "<div class=\"alert alert-info\">\n",
    "<b>Выполним тест Шапиро-Уилка на нормальность!</b>\n",
    "\n",
    "Тест Шапиро-Уилка проверяет нулевую гипотезу о том, что данные были взяты из нормального распределения."
   ]
  },
  {
   "cell_type": "code",
   "metadata": {
    "ExecuteTime": {
     "end_time": "2024-09-28T19:17:49.206305Z",
     "start_time": "2024-09-28T19:17:49.200222Z"
    }
   },
   "source": [
    "statistic, p_value = stats.shapiro(df.price)\n",
    "\n",
    "print('Статистики=%.3f, p=%.3f' % (statistic, p_value))\n",
    "\n",
    "alpha = 0.05\n",
    "if p_value > alpha:  # Интерпретируем\n",
    "    # H_0 = Распределение нормальное\n",
    "    print('Нормальное распределение (не отвергаем H0)')\n",
    "else:\n",
    "    print('Не нормальное распределения (отвергаем H0)')"
   ],
   "outputs": [
    {
     "name": "stdout",
     "output_type": "stream",
     "text": [
      "Статистики=0.323, p=0.000\n",
      "Не нормальное распределения (отвергаем H0)\n"
     ]
    },
    {
     "name": "stderr",
     "output_type": "stream",
     "text": [
      "/usr/lib64/python3.12/site-packages/scipy/stats/_morestats.py:1882: UserWarning: p-value may not be accurate for N > 5000.\n",
      "  warnings.warn(\"p-value may not be accurate for N > 5000.\")\n"
     ]
    }
   ],
   "execution_count": 9
  },
  {
   "cell_type": "markdown",
   "metadata": {},
   "source": [
    "# Можно ли использовать тут наш подход?"
   ]
  },
  {
   "cell_type": "code",
   "metadata": {
    "ExecuteTime": {
     "end_time": "2024-09-28T19:17:49.390285Z",
     "start_time": "2024-09-28T19:17:49.231853Z"
    }
   },
   "source": [
    "log_data = np.log2(abs(df[df.price < 500].price) + 1)\n",
    "\n",
    "log_data.hist(bins=30)\n",
    "\n",
    "shapiro_test = stats.shapiro(log_data)\n",
    "shapiro_test"
   ],
   "outputs": [
    {
     "name": "stderr",
     "output_type": "stream",
     "text": [
      "/usr/lib64/python3.12/site-packages/scipy/stats/_morestats.py:1882: UserWarning: p-value may not be accurate for N > 5000.\n",
      "  warnings.warn(\"p-value may not be accurate for N > 5000.\")\n"
     ]
    },
    {
     "data": {
      "text/plain": [
       "ShapiroResult(statistic=0.9896422624588013, pvalue=2.2420775429197073e-44)"
      ]
     },
     "execution_count": 10,
     "metadata": {},
     "output_type": "execute_result"
    },
    {
     "data": {
      "text/plain": [
       "<Figure size 640x480 with 1 Axes>"
      ],
      "image/png": "[encoded data removed]"
     },
     "metadata": {},
     "output_type": "display_data"
    }
   ],
   "execution_count": 10
  },
  {
   "cell_type": "markdown",
   "metadata": {},
   "source": [
    "<div class=\"alert alert-info\">\n",
    "<b>Заметим</b>\n",
    "\n",
    "Распределением стало иметь более нормальный вид, но распределние все равно не нормальное. Значит, мы не можем использовать критерий Стьюдента"
   ]
  },
  {
   "cell_type": "code",
   "metadata": {
    "ExecuteTime": {
     "end_time": "2024-09-28T19:17:49.400600Z",
     "start_time": "2024-09-28T19:17:49.397745Z"
    }
   },
   "source": [
    "np.random.seed(42)\n",
    "\n",
    "normal_data = stats.norm.rvs(loc=200, scale=100, size=1000)\n",
    "\n",
    "statistic, p_value = stats.shapiro(normal_data)\n",
    "\n",
    "print('Статистики=%.3f, p=%.3f' % (statistic, p_value))\n",
    "\n",
    "if p_value > alpha:  # Интерпретируем\n",
    "    print('Нормальное распределение (не отвергаем H0)')\n",
    "else:\n",
    "    print('Не нормальное распределения (отвергаем H0)')\n",
    "\n",
    "# Не можем отвергнуть гипотезу, что данные из нормального распределения"
   ],
   "outputs": [
    {
     "name": "stdout",
     "output_type": "stream",
     "text": [
      "Статистики=0.999, p=0.627\n",
      "Нормальное распределение (не отвергаем H0)\n"
     ]
    }
   ],
   "execution_count": 11
  },
  {
   "cell_type": "code",
   "metadata": {
    "ExecuteTime": {
     "end_time": "2024-09-28T19:17:49.461513Z",
     "start_time": "2024-09-28T19:17:49.460018Z"
    }
   },
   "source": [],
   "outputs": [],
   "execution_count": null
  },
  {
   "cell_type": "markdown",
   "metadata": {},
   "source": [
    "# Выбросы и нормальность"
   ]
  },
  {
   "cell_type": "code",
   "metadata": {
    "ExecuteTime": {
     "end_time": "2024-09-28T19:17:49.508428Z",
     "start_time": "2024-09-28T19:17:49.505712Z"
    }
   },
   "source": [
    "np.random.seed(42)\n",
    "normal_data = stats.norm.rvs(loc=200, scale=100, size=1000)  #Сгенерируем выборку\n",
    "outliers_data = stats.norm.rvs(loc=200, scale=1000, size=10)  # Добавим всего лишь 10 выбросов\n",
    "dirty_data = np.append(normal_data, outliers_data)"
   ],
   "outputs": [],
   "execution_count": 12
  },
  {
   "cell_type": "code",
   "metadata": {
    "ExecuteTime": {
     "end_time": "2024-09-28T19:17:49.650720Z",
     "start_time": "2024-09-28T19:17:49.552714Z"
    }
   },
   "source": [
    "plt.figure(figsize=(10, 8))\n",
    "plt.hist(dirty_data, bins=40);"
   ],
   "outputs": [
    {
     "data": {
      "text/plain": [
       "<Figure size 1000x800 with 1 Axes>"
      ],
      "image/png": "[encoded data removed]"
     },
     "metadata": {},
     "output_type": "display_data"
    }
   ],
   "execution_count": 13
  },
  {
   "cell_type": "code",
   "metadata": {
    "ExecuteTime": {
     "end_time": "2024-09-28T19:17:49.660357Z",
     "start_time": "2024-09-28T19:17:49.658112Z"
    }
   },
   "source": [
    "statistic, p_value = stats.shapiro(dirty_data)\n",
    "\n",
    "print('Статистики=%.3f, p=%.3f' % (statistic, p_value))\n",
    "\n",
    "if p_value > alpha:  # Интерпретируем\n",
    "    print('Нормальное распределение (не отвергаем H0)')\n",
    "else:\n",
    "    print('Не нормальное распределения (отвергаем H0)')"
   ],
   "outputs": [
    {
     "name": "stdout",
     "output_type": "stream",
     "text": [
      "Статистики=0.826, p=0.000\n",
      "Не нормальное распределения (отвергаем H0)\n"
     ]
    }
   ],
   "execution_count": 14
  },
  {
   "cell_type": "markdown",
   "metadata": {},
   "source": [
    "# Удалим выбросы"
   ]
  },
  {
   "cell_type": "code",
   "metadata": {
    "ExecuteTime": {
     "end_time": "2024-09-28T19:17:49.709814Z",
     "start_time": "2024-09-28T19:17:49.706097Z"
    }
   },
   "source": [
    "clear_data = dirty_data[(dirty_data > -100) & (dirty_data < 500)]  # удаляем выбросы\n",
    "\n",
    "statistic, p_value = stats.shapiro(clear_data)\n",
    "\n",
    "print('Статистики=%.3f, p=%.3f' % (statistic, p_value))\n",
    "\n",
    "if p_value > alpha:  # Интерпретируем\n",
    "    print('Нормальное распределение (не отвергаем H0)')\n",
    "else:\n",
    "    print('Не нормальное распределения (отвергаем H0)')"
   ],
   "outputs": [
    {
     "name": "stdout",
     "output_type": "stream",
     "text": [
      "Статистики=0.998, p=0.272\n",
      "Нормальное распределение (не отвергаем H0)\n"
     ]
    }
   ],
   "execution_count": 15
  },
  {
   "cell_type": "markdown",
   "metadata": {},
   "source": [
    "# Выводы:\n",
    "\n",
    "- Не всегда реальный данные будут иметь нормалный вид\n",
    "- Нормальность данных легко можно проверить визуально или с критерий Шапиро-Уилка\n",
    "- Выбросы портять распределение - от них надо избавляться\n"
   ]
  }
 ],
 "metadata": {
  "kernelspec": {
   "display_name": "Python 3",
   "language": "python",
   "name": "python3"
  },
  "language_info": {
   "codemirror_mode": {
    "name": "ipython",
    "version": 3
   },
   "file_extension": ".py",
   "mimetype": "text/x-python",
   "name": "python",
   "nbconvert_exporter": "python",
   "pygments_lexer": "ipython3",
   "version": "3.8.5"
  },
  "toc": {
   "base_numbering": 1,
   "nav_menu": {},
   "number_sections": true,
   "sideBar": true,
   "skip_h1_title": false,
   "title_cell": "Table of Contents",
   "title_sidebar": "Contents",
   "toc_cell": false,
   "toc_position": {},
   "toc_section_display": true,
   "toc_window_display": false
  }
 },
 "nbformat": 4,
 "nbformat_minor": 4
}
