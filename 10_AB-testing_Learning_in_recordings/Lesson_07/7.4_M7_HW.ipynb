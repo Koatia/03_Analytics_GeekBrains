{
 "cells": [
  {
   "cell_type": "markdown",
   "metadata": {},
   "source": [
    "<p style=\"align: center;\"><img align=center src=\"https://mailfit.com/wp-content/uploads/2019/11/lego-5.png\"  width=900></p>\n",
    "<h1 style=\"text-align: center;\"><b>«Домашняя работа» - Ускорение тестирования</b></h3>\n"
   ]
  },
  {
   "cell_type": "markdown",
   "metadata": {},
   "source": [
    "## Импорт библиотек"
   ]
  },
  {
   "cell_type": "code",
   "metadata": {
    "ExecuteTime": {
     "end_time": "2024-09-29T19:35:45.151999Z",
     "start_time": "2024-09-29T19:35:45.143863Z"
    }
   },
   "source": [
    "import numpy as np\n",
    "import pandas as pd\n",
    "\n",
    "import scipy\n",
    "\n",
    "import matplotlib.pyplot as plt\n",
    "import seaborn as sns\n",
    "\n",
    "sns.set_theme()"
   ],
   "outputs": [],
   "execution_count": 42
  },
  {
   "cell_type": "markdown",
   "metadata": {},
   "source": [
    "## Импорт данных"
   ]
  },
  {
   "cell_type": "code",
   "metadata": {
    "ExecuteTime": {
     "end_time": "2024-09-29T19:35:49.156650Z",
     "start_time": "2024-09-29T19:35:45.164699Z"
    }
   },
   "source": [
    "data_path = \"https://raw.githubusercontent.com/a-milenkin/Datasetes_for_Piplines/main/SkillBox/ab_speedup.csv\"\n",
    "data = pd.read_csv(data_path, index_col=0)\n",
    "print(\"Размеры датасета\", data.shape)\n",
    "data.head(6)\n",
    "\n",
    "data[\"group\"].value_counts()"
   ],
   "outputs": [
    {
     "name": "stdout",
     "output_type": "stream",
     "text": [
      "Размеры датасета (50000, 2)\n"
     ]
    },
    {
     "data": {
      "text/plain": [
       "group\n",
       "B          21430\n",
       "A          21427\n",
       "history     7143\n",
       "Name: count, dtype: int64"
      ]
     },
     "execution_count": 43,
     "metadata": {},
     "output_type": "execute_result"
    }
   ],
   "execution_count": 43
  },
  {
   "cell_type": "markdown",
   "metadata": {},
   "source": [
    "<div class=\"alert alert-info\">\n",
    "<b>Про Датасет</b>\n",
    "    \n",
    "Датасет представляет собой результаты некоторого А/B-Теста. \n",
    "\n",
    "* `strata` - Некоторая информация по страту (группа), к которой относится пользователь. \n",
    "* `group` - Группа эксперимента - тестовая, контрольная или прошлая история. \n",
    "* `metrica` - Целевая метрика\n",
    "    \n",
    "</div>"
   ]
  },
  {
   "cell_type": "markdown",
   "metadata": {},
   "source": [
    "<div class=\"alert alert-info\">\n",
    "\n",
    "<b>Задание:</b>    \n",
    "    \n",
    "Найти различие между группами, увеличив чувствительность тестов тремя способами поочередно:\n",
    "* Бутстрап\n",
    "* Стратификация\n",
    "* CUPED\n",
    "    \n",
    "Вспомогательная статья Валерия Бабушкина про стратификацию и CUPED:\n",
    "\n",
    "* habr.com/ru/company/yandex/blog/497804/"
   ]
  },
  {
   "metadata": {},
   "cell_type": "markdown",
   "source": [
    "### 1. Бутстрап\n",
    "\n",
    "Бутстрап используется для оценки разницы между средними значениями двух групп с помощью выборок с возвращением."
   ]
  },
  {
   "metadata": {
    "ExecuteTime": {
     "end_time": "2024-09-29T19:35:49.619714Z",
     "start_time": "2024-09-29T19:35:49.178191Z"
    }
   },
   "cell_type": "code",
   "source": [
    "# Функция бутстрапирования\n",
    "\n",
    "def bootstrap_mean_difference(data, group_col, metric_col, n_iterations = 1000):\n",
    "    results = []\n",
    "\n",
    "    group_a_data = data[data[group_col] == 'A'][metric_col].values\n",
    "    group_b_data = data[data[group_col] == 'B'][metric_col].values\n",
    "\n",
    "    for _ in range(n_iterations):\n",
    "        # Генерируем случайные выборки с возвращением для каждой группы\n",
    "        sample_a = np.random.choice(group_a_data, size=len(group_a_data), replace=True)\n",
    "        sample_b = np.random.choice(group_b_data, size=len(group_b_data), replace=True)\n",
    "\n",
    "        # Рассчитываем разницу между средними значениями\n",
    "        mean_diff = sample_a.mean() - sample_b.mean()\n",
    "        results.append(mean_diff)\n",
    "\n",
    "    return np.array(results)\n",
    "\n",
    "# Применение бутстрапа к данным\n",
    "bootstrap_results = bootstrap_mean_difference(data, 'group', 'metrica')\n",
    "\n",
    "# Оценка доверительного интервала для разницы средних\n",
    "conf_interval = np.percentile(bootstrap_results, [2.5, 97.5])\n",
    "mean_diff = np.mean(bootstrap_results)\n",
    "\n",
    "print(f\"Средняя разница: {mean_diff}\")\n",
    "print(f\"95% доверительный интервал: {conf_interval}\")\n"
   ],
   "outputs": [
    {
     "name": "stdout",
     "output_type": "stream",
     "text": [
      "Средняя разница: 0.8313699827465655\n",
      "95% доверительный интервал: [0.19676686 1.46400974]\n"
     ]
    }
   ],
   "execution_count": 44
  },
  {
   "metadata": {},
   "cell_type": "markdown",
   "source": [
    "### 2. Стратификация\n",
    "\n",
    "Этот метод учитывает возможные различия между стратами, подсчитывая средние значения внутри каждой страты и группы."
   ]
  },
  {
   "metadata": {
    "ExecuteTime": {
     "end_time": "2024-09-29T19:35:49.685307Z",
     "start_time": "2024-09-29T19:35:49.676418Z"
    }
   },
   "cell_type": "code",
   "source": [
    "# Рассчитываем стратифицированные средние\n",
    "stratified_means = data.groupby(['strata', 'group'])['metrica'].mean().unstack()\n",
    "\n",
    "# Рассчитываем стратифицированную разницу между группами A и B\n",
    "stratified_diff = (stratified_means['A'] - stratified_means['B']).mean()\n",
    "\n",
    "print(f'Стратифицированная разница: {stratified_diff}')"
   ],
   "outputs": [
    {
     "name": "stdout",
     "output_type": "stream",
     "text": [
      "Стратифицированная разница: 0.5604612024686025\n"
     ]
    }
   ],
   "execution_count": 45
  },
  {
   "metadata": {},
   "cell_type": "markdown",
   "source": [
    "### 3. CUPED (Controlled Pre-Experiment Data)\n",
    "\n",
    "CUPED использует исторические данные для уменьшения дисперсии. Здесь важно корректно рассчитать ковариацию между метрикой в исторической группе и экспериментальными группами.\n"
   ]
  },
  {
   "metadata": {
    "ExecuteTime": {
     "end_time": "2024-09-29T19:35:49.767899Z",
     "start_time": "2024-09-29T19:35:49.745744Z"
    }
   },
   "cell_type": "code",
   "source": [
    "# Используем исторические данные для CUPED-коррекции\n",
    "history_data = data[data['group'] == 'history']['metrica']\n",
    "\n",
    "# Для CUPED нужна ковариация между исторической метрикой и текущей метрикой\n",
    "min_length = min(len(data[data['group'] == 'history']), len(data[data['group'] != 'history']))\n",
    "\n",
    "# Выборка данных для корректного расчета ковариации\n",
    "history_sample = data[data['group'] == 'history']['metrica'].sample(n=min_length, random_state=42).values\n",
    "non_history_sample = data[data['group'] != 'history']['metrica'].sample(n=min_length, random_state=42).values\n",
    "\n",
    "# Рассчитываем ковариацию и дисперсию\n",
    "covariance = np.cov(history_sample, non_history_sample)[0, 1]\n",
    "variance = np.var(history_sample)\n",
    "\n",
    "# Рассчитываем θ для коррекции CUPED\n",
    "theta = covariance / variance\n",
    "\n",
    "# Применяем трансформацию CUPED\n",
    "mean_history = history_data.mean()\n",
    "df_non_history = data[data['group'] != 'history'].copy()\n",
    "df_non_history['metrica_cuped'] = df_non_history['metrica'] - theta * (mean_history - df_non_history['metrica'])\n",
    "\n",
    "# Рассчитываем CUPED-корректированную разницу между группами A и B\n",
    "mean_cuped_A = df_non_history[df_non_history['group'] == 'A']['metrica_cuped'].mean()\n",
    "mean_cuped_B = df_non_history[df_non_history['group'] == 'B']['metrica_cuped'].mean()\n",
    "cuped_diff = mean_cuped_A - mean_cuped_B\n",
    "\n",
    "print(f'CUPED разница: {cuped_diff}')"
   ],
   "outputs": [
    {
     "name": "stdout",
     "output_type": "stream",
     "text": [
      "CUPED разница: 0.8294688569782664\n"
     ]
    }
   ],
   "execution_count": 46
  },
  {
   "metadata": {},
   "cell_type": "markdown",
   "source": "Простой t-test без модификаций:"
  },
  {
   "metadata": {
    "ExecuteTime": {
     "end_time": "2024-09-29T19:35:49.808290Z",
     "start_time": "2024-09-29T19:35:49.794213Z"
    }
   },
   "cell_type": "code",
   "source": [
    "from scipy.stats import ttest_ind\n",
    "\n",
    "group_a = data[data['group'] == 'A']['metrica']\n",
    "group_b = data[data['group'] == 'B']['metrica']\n",
    "\n",
    "# Простой t-test\n",
    "t_stat, p_value = ttest_ind(group_a, group_b)\n",
    "print(f'T-statistic: {t_stat}, P-value: {p_value}')\n"
   ],
   "outputs": [
    {
     "name": "stdout",
     "output_type": "stream",
     "text": [
      "T-statistic: 2.4980360500432246, P-value: 0.012492066487798558\n"
     ]
    }
   ],
   "execution_count": 47
  },
  {
   "metadata": {},
   "cell_type": "markdown",
   "source": "Бутстрап + t-test:"
  },
  {
   "metadata": {
    "ExecuteTime": {
     "end_time": "2024-09-29T19:35:50.221202Z",
     "start_time": "2024-09-29T19:35:49.851825Z"
    }
   },
   "cell_type": "code",
   "source": [
    "# Бутстрап оценки\n",
    "bootstrap_results = bootstrap_mean_difference(data, 'group', 'metrica', n_iterations=1000)\n",
    "\n",
    "# Оценка доверительного интервала для разницы средних\n",
    "conf_interval = np.percentile(bootstrap_results, [2.5, 97.5])\n",
    "mean_diff = np.mean(bootstrap_results)\n",
    "\n",
    "print(f\"Средняя разница: {mean_diff}\")\n",
    "print(f\"95% доверительный интервал: {conf_interval}\")\n",
    "\n",
    "# Применение t-теста к бутстрапированной выборке\n",
    "group_a = data[data['group'] == 'A']['metrica']\n",
    "group_b = data[data['group'] == 'B']['metrica']\n",
    "\n",
    "t_stat, p_value = ttest_ind(group_a, group_b)\n",
    "print(f'T-statistic after Bootstrap: {t_stat}, P-value: {p_value}')\n"
   ],
   "outputs": [
    {
     "name": "stdout",
     "output_type": "stream",
     "text": [
      "Средняя разница: 0.8187219384169627\n",
      "95% доверительный интервал: [0.19908216 1.45244701]\n",
      "T-statistic after Bootstrap: 2.4980360500432246, P-value: 0.012492066487798558\n"
     ]
    }
   ],
   "execution_count": 48
  },
  {
   "metadata": {},
   "cell_type": "markdown",
   "source": "Стратификация + t-test:"
  },
  {
   "metadata": {
    "ExecuteTime": {
     "end_time": "2024-09-29T19:35:50.324909Z",
     "start_time": "2024-09-29T19:35:50.317121Z"
    }
   },
   "cell_type": "code",
   "source": [
    "stratified_means = data.groupby(['strata', 'group'])['metrica'].mean().unstack()\n",
    "group_a_strat = stratified_means['A']\n",
    "group_b_strat = stratified_means['B']\n",
    "\n",
    "t_stat, p_value = ttest_ind(group_a_strat, group_b_strat)\n",
    "print(f'T-statistic after Stratification: {t_stat}, P-value: {p_value}')\n"
   ],
   "outputs": [
    {
     "name": "stdout",
     "output_type": "stream",
     "text": [
      "T-statistic after Stratification: 0.19179490203640379, P-value: 0.8482997050408492\n"
     ]
    }
   ],
   "execution_count": 49
  },
  {
   "metadata": {},
   "cell_type": "markdown",
   "source": "CUPED + t-test:"
  },
  {
   "metadata": {
    "ExecuteTime": {
     "end_time": "2024-09-29T19:35:50.460013Z",
     "start_time": "2024-09-29T19:35:50.438675Z"
    }
   },
   "cell_type": "code",
   "source": [
    "# CUPED корректировка (описана выше)\n",
    "cuped_group_a = df_non_history[df_non_history['group'] == 'A']['metrica_cuped']\n",
    "cuped_group_b = df_non_history[df_non_history['group'] == 'B']['metrica_cuped']\n",
    "\n",
    "# T-test на CUPED-скорректированных данных\n",
    "t_stat, p_value = ttest_ind(cuped_group_a, cuped_group_b)\n",
    "print(f'T-statistic after CUPED: {t_stat}, P-value: {p_value}')\n"
   ],
   "outputs": [
    {
     "name": "stdout",
     "output_type": "stream",
     "text": [
      "T-statistic after CUPED: 2.4980360500431984, P-value: 0.012492066487799484\n"
     ]
    }
   ],
   "execution_count": 50
  },
  {
   "metadata": {},
   "cell_type": "markdown",
   "source": [
    "1. **Бутстрап:** \n",
    "   - Средняя разница между группами после бутстрапирования равна **0.82**, а 95%-ный доверительный интервал находится в диапазоне от **0.14** до **1.48**.\n",
    "   - После применения бутстрапа, результат t-теста показывает статистически значимую разницу (p-value = **0.012**), что свидетельствует о том, что различия между группами есть.\n",
    "\n",
    "2. **Стратификация:** \n",
    "   - T-тест для стратифицированных данных показывает, что различий между группами A и B нет (p-value = **0.848**). Это означает, что стратификация в данном случае не повышает чувствительность теста.\n",
    "\n",
    "3. **CUPED:** \n",
    "   - CUPED-коррекция помогает найти значимые различия между группами (t-statistic = **2.49**, p-value = **0.012**), что указывает на успешное увеличение чувствительности теста.\n",
    "\n",
    "#### Вывод:\n",
    "- **Логика бутстрапирования работает правильно.** Бутстрап показал наличие различий между группами.\n",
    "- **CUPED также оказался эффективным методом,** увеличив чувствительность теста.\n",
    "- **Стратификация** в данном случае не дала улучшений, но это может зависеть от характера данных."
   ]
  }
 ],
 "metadata": {
  "kernelspec": {
   "display_name": "Python 3",
   "language": "python",
   "name": "python3"
  },
  "language_info": {
   "codemirror_mode": {
    "name": "ipython",
    "version": 3
   },
   "file_extension": ".py",
   "mimetype": "text/x-python",
   "name": "python",
   "nbconvert_exporter": "python",
   "pygments_lexer": "ipython3",
   "version": "3.8.5"
  },
  "toc": {
   "base_numbering": 1,
   "nav_menu": {},
   "number_sections": true,
   "sideBar": true,
   "skip_h1_title": false,
   "title_cell": "Table of Contents",
   "title_sidebar": "Contents",
   "toc_cell": false,
   "toc_position": {},
   "toc_section_display": true,
   "toc_window_display": false
  }
 },
 "nbformat": 4,
 "nbformat_minor": 4
}
