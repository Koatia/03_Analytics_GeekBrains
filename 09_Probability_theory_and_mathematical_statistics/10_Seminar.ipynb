{
 "cells": [
  {
   "cell_type": "markdown",
   "metadata": {},
   "source": [
    "### Задание 1\n",
    "\n",
    "Есть ли различие между процентным содержанием изотопов плутония? Используйте функции в Python.\n",
    "Провести предварительный разведочный анализ (проверку на нормальность и равенство дисперсий*)"
   ]
  },
  {
   "cell_type": "code",
   "execution_count": 21,
   "metadata": {},
   "outputs": [],
   "source": [
    "import numpy as np\n",
    "import scipy.stats as stats\n",
    "import pandas as pd"
   ]
  },
  {
   "cell_type": "code",
   "execution_count": 16,
   "metadata": {},
   "outputs": [],
   "source": [
    "pu_238 = np.array(\n",
    "    [\n",
    "        0.126,\n",
    "        0.133,\n",
    "        0.127,\n",
    "        0.156,\n",
    "        0.503,\n",
    "        0.113,\n",
    "        0.129,\n",
    "        0.124,\n",
    "        1.022,\n",
    "        1.412,\n",
    "        1.533,\n",
    "        1.534,\n",
    "        1.437,\n",
    "        1.439,\n",
    "        1.375,\n",
    "        1.153,\n",
    "        0.201,\n",
    "        0.176,\n",
    "        0.239,\n",
    "        0.102,\n",
    "        1.070,\n",
    "        0.851,\n",
    "        0.125,\n",
    "        0.142,\n",
    "        0.352,\n",
    "        0.351,\n",
    "        0.346,\n",
    "        0.217,\n",
    "        1.068,\n",
    "        1.171,\n",
    "        1.213,\n",
    "        1.226,\n",
    "        1.111,\n",
    "        0.183,\n",
    "        0.162,\n",
    "        0.113,\n",
    "        1.309,\n",
    "        1.638,\n",
    "        1.589,\n",
    "        1.411,\n",
    "        1.457,\n",
    "        0.397,\n",
    "        0.328,\n",
    "        0.242,\n",
    "        1.367,\n",
    "    ]\n",
    ")\n",
    "pu_239 = np.array(\n",
    "    [\n",
    "        75.804,\n",
    "        75.515,\n",
    "        75.175,\n",
    "        78.872,\n",
    "        73.317,\n",
    "        79.116,\n",
    "        75.751,\n",
    "        75.326,\n",
    "        63.287,\n",
    "        59.553,\n",
    "        58.688,\n",
    "        58.758,\n",
    "        59.728,\n",
    "        59.544,\n",
    "        59.877,\n",
    "        61.182,\n",
    "        78.244,\n",
    "        78.166,\n",
    "        74.254,\n",
    "        79.840,\n",
    "        62.455,\n",
    "        73.189,\n",
    "        75.968,\n",
    "        75.957,\n",
    "        72.885,\n",
    "        72.907,\n",
    "        72.919,\n",
    "        76.089,\n",
    "        70.129,\n",
    "        69.273,\n",
    "        69.147,\n",
    "        68.294,\n",
    "        71.076,\n",
    "        75.714,\n",
    "        76.150,\n",
    "        77.845,\n",
    "        62.382,\n",
    "        60.112,\n",
    "        60.519,\n",
    "        61.585,\n",
    "        61.332,\n",
    "        72.291,\n",
    "        73.451,\n",
    "        74.888,\n",
    "        60.507,\n",
    "    ]\n",
    ")\n",
    "pu_240 = np.array(\n",
    "    [\n",
    "        21.204,\n",
    "        21.408,\n",
    "        21.668,\n",
    "        18.428,\n",
    "        20.223,\n",
    "        18.548,\n",
    "        21.162,\n",
    "        21.557,\n",
    "        24.493,\n",
    "        25.576,\n",
    "        25.719,\n",
    "        25.692,\n",
    "        25.146,\n",
    "        25.126,\n",
    "        25.128,\n",
    "        25.100,\n",
    "        18.488,\n",
    "        18.629,\n",
    "        21.515,\n",
    "        17.872,\n",
    "        24.656,\n",
    "        18.285,\n",
    "        20.794,\n",
    "        20.867,\n",
    "        21.718,\n",
    "        21.721,\n",
    "        21.713,\n",
    "        20.225,\n",
    "        18.573,\n",
    "        18.633,\n",
    "        18.640,\n",
    "        18.869,\n",
    "        18.122,\n",
    "        20.750,\n",
    "        20.345,\n",
    "        19.108,\n",
    "        22.754,\n",
    "        23.320,\n",
    "        23.128,\n",
    "        23.133,\n",
    "        23.239,\n",
    "        21.761,\n",
    "        21.429,\n",
    "        20.939,\n",
    "        23.603,\n",
    "    ]\n",
    ")\n",
    "pu_241 = np.array(\n",
    "    [\n",
    "        2.180,\n",
    "        2.240,\n",
    "        2.305,\n",
    "        1.906,\n",
    "        4.128,\n",
    "        1.690,\n",
    "        2.260,\n",
    "        2.282,\n",
    "        6.990,\n",
    "        8.027,\n",
    "        8.279,\n",
    "        8.261,\n",
    "        8.377,\n",
    "        8.569,\n",
    "        8.428,\n",
    "        7.802,\n",
    "        2.351,\n",
    "        2.365,\n",
    "        2.901,\n",
    "        1.674,\n",
    "        7.512,\n",
    "        5.597,\n",
    "        2.407,\n",
    "        2.341,\n",
    "        3.618,\n",
    "        3.601,\n",
    "        3.600,\n",
    "        2.556,\n",
    "        7.689,\n",
    "        8.300,\n",
    "        8.363,\n",
    "        8.826,\n",
    "        7.248,\n",
    "        2.488,\n",
    "        2.524,\n",
    "        2.275,\n",
    "        9.311,\n",
    "        9.972,\n",
    "        9.970,\n",
    "        9.339,\n",
    "        9.321,\n",
    "        3.836,\n",
    "        3.419,\n",
    "        2.875,\n",
    "        9.839,\n",
    "    ]\n",
    ")"
   ]
  },
  {
   "cell_type": "code",
   "execution_count": 17,
   "metadata": {},
   "outputs": [
    {
     "data": {
      "text/plain": [
       "BartlettResult(statistic=193.1803716617602, pvalue=1.2547805439253745e-41)"
      ]
     },
     "execution_count": 17,
     "metadata": {},
     "output_type": "execute_result"
    }
   ],
   "source": [
    "stats.bartlett(pu_238, pu_239, pu_240, pu_241)"
   ]
  },
  {
   "cell_type": "code",
   "execution_count": 18,
   "metadata": {},
   "outputs": [
    {
     "data": {
      "text/plain": [
       "KruskalResult(statistic=167.8178522154513, pvalue=3.76478949748032e-36)"
      ]
     },
     "execution_count": 18,
     "metadata": {},
     "output_type": "execute_result"
    }
   ],
   "source": [
    "stats.kruskal(pu_238, pu_239, pu_240, pu_241)"
   ]
  },
  {
   "cell_type": "markdown",
   "metadata": {},
   "source": [
    "### Задание 2\n",
    "\n",
    "Даны квартальные прибыли акции Johnson&Johnson с 1960-1980 гг\n",
    "Есть ли различия прибыли между 4-мя кварталами?\n",
    "Провести EDA (проверка на нормальность, проверка на однородность дисперсий с помощью Барлетт теста from scipy.stats import bartlett)\n",
    "Учитывайте при выборе теста тот факт, что при сбалансированных данных (выборки одинакового объема), неоднородность дисперсий слабо влияет на результат"
   ]
  },
  {
   "cell_type": "code",
   "execution_count": null,
   "metadata": {},
   "outputs": [],
   "source": [
    "JJ_1 = np.array(\n",
    "    [\n",
    "        0.71,\n",
    "        0.63,\n",
    "        0.85,\n",
    "        0.44,\n",
    "        0.61,\n",
    "        0.69,\n",
    "        0.92,\n",
    "        0.55,\n",
    "        0.72,\n",
    "        0.77,\n",
    "        0.92,\n",
    "        0.60,\n",
    "        0.83,\n",
    "        0.80,\n",
    "        1.00,\n",
    "        0.77,\n",
    "        0.92,\n",
    "        1.00,\n",
    "        1.24,\n",
    "        1.00,\n",
    "        1.16,\n",
    "    ]\n",
    ")\n",
    "JJ_2 = np.array(\n",
    "    [\n",
    "        1.30,\n",
    "        1.45,\n",
    "        1.25,\n",
    "        1.26,\n",
    "        1.38,\n",
    "        1.86,\n",
    "        1.56,\n",
    "        1.53,\n",
    "        1.59,\n",
    "        1.83,\n",
    "        1.86,\n",
    "        1.53,\n",
    "        2.07,\n",
    "        2.34,\n",
    "        2.25,\n",
    "        2.16,\n",
    "        2.43,\n",
    "        2.70,\n",
    "        2.25,\n",
    "        2.79,\n",
    "        3.42,\n",
    "    ]\n",
    ")\n",
    "JJ_3 = np.array(\n",
    "    [\n",
    "        3.69,\n",
    "        3.60,\n",
    "        3.60,\n",
    "        4.32,\n",
    "        4.32,\n",
    "        4.05,\n",
    "        4.86,\n",
    "        5.04,\n",
    "        5.04,\n",
    "        4.41,\n",
    "        5.58,\n",
    "        5.85,\n",
    "        6.57,\n",
    "        5.31,\n",
    "        6.03,\n",
    "        6.39,\n",
    "        6.93,\n",
    "        5.85,\n",
    "        6.93,\n",
    "        7.74,\n",
    "        7.83,\n",
    "    ]\n",
    ")\n",
    "JJ_4 = np.array(\n",
    "    [\n",
    "        6.12,\n",
    "        7.74,\n",
    "        8.91,\n",
    "        8.28,\n",
    "        6.84,\n",
    "        9.54,\n",
    "        10.26,\n",
    "        9.54,\n",
    "        8.73,\n",
    "        11.88,\n",
    "        12.06,\n",
    "        12.15,\n",
    "        8.91,\n",
    "        14.04,\n",
    "        12.96,\n",
    "        14.85,\n",
    "        9.99,\n",
    "        16.20,\n",
    "        14.67,\n",
    "        16.02,\n",
    "        11.61,\n",
    "    ]\n",
    ")"
   ]
  },
  {
   "cell_type": "code",
   "execution_count": null,
   "metadata": {},
   "outputs": [
    {
     "data": {
      "text/plain": [
       "ShapiroResult(statistic=0.9837694764137268, pvalue=0.9688350558280945)"
      ]
     },
     "execution_count": 13,
     "metadata": {},
     "output_type": "execute_result"
    }
   ],
   "source": [
    "stats.shapiro(JJ_1)"
   ]
  },
  {
   "cell_type": "code",
   "execution_count": null,
   "metadata": {},
   "outputs": [
    {
     "data": {
      "text/plain": [
       "ShapiroResult(statistic=0.9252575635910034, pvalue=0.11057926714420319)"
      ]
     },
     "execution_count": 14,
     "metadata": {},
     "output_type": "execute_result"
    }
   ],
   "source": [
    "stats.shapiro(JJ_2)"
   ]
  },
  {
   "cell_type": "code",
   "execution_count": null,
   "metadata": {},
   "outputs": [
    {
     "data": {
      "text/plain": [
       "ShapiroResult(statistic=0.9523218274116516, pvalue=0.37654614448547363)"
      ]
     },
     "execution_count": 11,
     "metadata": {},
     "output_type": "execute_result"
    }
   ],
   "source": [
    "stats.shapiro(JJ_3)"
   ]
  },
  {
   "cell_type": "code",
   "execution_count": null,
   "metadata": {},
   "outputs": [
    {
     "data": {
      "text/plain": [
       "ShapiroResult(statistic=0.9590807557106018, pvalue=0.49780404567718506)"
      ]
     },
     "execution_count": 12,
     "metadata": {},
     "output_type": "execute_result"
    }
   ],
   "source": [
    "stats.shapiro(JJ_4)"
   ]
  },
  {
   "cell_type": "code",
   "execution_count": 20,
   "metadata": {},
   "outputs": [
    {
     "data": {
      "text/plain": [
       "F_onewayResult(statistic=162.03157448390618, pvalue=6.81307443530621e-34)"
      ]
     },
     "execution_count": 20,
     "metadata": {},
     "output_type": "execute_result"
    }
   ],
   "source": [
    "stats.f_oneway(JJ_1, JJ_2, JJ_3, JJ_4)"
   ]
  },
  {
   "cell_type": "markdown",
   "metadata": {},
   "source": [
    "### Задание 3\n",
    "\n",
    "Провести post hoc tests к задаче 2\n",
    "Между какими группами не обнаружено статистически значимых различий?"
   ]
  },
  {
   "cell_type": "code",
   "execution_count": 23,
   "metadata": {},
   "outputs": [
    {
     "data": {
      "text/html": [
       "<div>\n",
       "<style scoped>\n",
       "    .dataframe tbody tr th:only-of-type {\n",
       "        vertical-align: middle;\n",
       "    }\n",
       "\n",
       "    .dataframe tbody tr th {\n",
       "        vertical-align: top;\n",
       "    }\n",
       "\n",
       "    .dataframe thead th {\n",
       "        text-align: right;\n",
       "    }\n",
       "</style>\n",
       "<table border=\"1\" class=\"dataframe\">\n",
       "  <thead>\n",
       "    <tr style=\"text-align: right;\">\n",
       "      <th></th>\n",
       "      <th>score</th>\n",
       "      <th>group</th>\n",
       "    </tr>\n",
       "  </thead>\n",
       "  <tbody>\n",
       "    <tr>\n",
       "      <th>0</th>\n",
       "      <td>0.71</td>\n",
       "      <td>JJ_1</td>\n",
       "    </tr>\n",
       "    <tr>\n",
       "      <th>1</th>\n",
       "      <td>0.63</td>\n",
       "      <td>JJ_1</td>\n",
       "    </tr>\n",
       "    <tr>\n",
       "      <th>2</th>\n",
       "      <td>0.85</td>\n",
       "      <td>JJ_1</td>\n",
       "    </tr>\n",
       "    <tr>\n",
       "      <th>3</th>\n",
       "      <td>0.44</td>\n",
       "      <td>JJ_1</td>\n",
       "    </tr>\n",
       "    <tr>\n",
       "      <th>4</th>\n",
       "      <td>0.61</td>\n",
       "      <td>JJ_1</td>\n",
       "    </tr>\n",
       "    <tr>\n",
       "      <th>...</th>\n",
       "      <td>...</td>\n",
       "      <td>...</td>\n",
       "    </tr>\n",
       "    <tr>\n",
       "      <th>79</th>\n",
       "      <td>9.99</td>\n",
       "      <td>JJ_4</td>\n",
       "    </tr>\n",
       "    <tr>\n",
       "      <th>80</th>\n",
       "      <td>16.20</td>\n",
       "      <td>JJ_4</td>\n",
       "    </tr>\n",
       "    <tr>\n",
       "      <th>81</th>\n",
       "      <td>14.67</td>\n",
       "      <td>JJ_4</td>\n",
       "    </tr>\n",
       "    <tr>\n",
       "      <th>82</th>\n",
       "      <td>16.02</td>\n",
       "      <td>JJ_4</td>\n",
       "    </tr>\n",
       "    <tr>\n",
       "      <th>83</th>\n",
       "      <td>11.61</td>\n",
       "      <td>JJ_4</td>\n",
       "    </tr>\n",
       "  </tbody>\n",
       "</table>\n",
       "<p>84 rows × 2 columns</p>\n",
       "</div>"
      ],
      "text/plain": [
       "    score group\n",
       "0    0.71  JJ_1\n",
       "1    0.63  JJ_1\n",
       "2    0.85  JJ_1\n",
       "3    0.44  JJ_1\n",
       "4    0.61  JJ_1\n",
       "..    ...   ...\n",
       "79   9.99  JJ_4\n",
       "80  16.20  JJ_4\n",
       "81  14.67  JJ_4\n",
       "82  16.02  JJ_4\n",
       "83  11.61  JJ_4\n",
       "\n",
       "[84 rows x 2 columns]"
      ]
     },
     "execution_count": 23,
     "metadata": {},
     "output_type": "execute_result"
    }
   ],
   "source": [
    "df = pd.DataFrame(\n",
    "    {\n",
    "        \"score\": [\n",
    "            0.71,\n",
    "            0.63,\n",
    "            0.85,\n",
    "            0.44,\n",
    "            0.61,\n",
    "            0.69,\n",
    "            0.92,\n",
    "            0.55,\n",
    "            0.72,\n",
    "            0.77,\n",
    "            0.92,\n",
    "            0.60,\n",
    "            0.83,\n",
    "            0.80,\n",
    "            1.00,\n",
    "            0.77,\n",
    "            0.92,\n",
    "            1.00,\n",
    "            1.24,\n",
    "            1.00,\n",
    "            1.16,\n",
    "            1.30,\n",
    "            1.45,\n",
    "            1.25,\n",
    "            1.26,\n",
    "            1.38,\n",
    "            1.86,\n",
    "            1.56,\n",
    "            1.53,\n",
    "            1.59,\n",
    "            1.83,\n",
    "            1.86,\n",
    "            1.53,\n",
    "            2.07,\n",
    "            2.34,\n",
    "            2.25,\n",
    "            2.16,\n",
    "            2.43,\n",
    "            2.70,\n",
    "            2.25,\n",
    "            2.79,\n",
    "            3.42,\n",
    "            3.69,\n",
    "            3.60,\n",
    "            3.60,\n",
    "            4.32,\n",
    "            4.32,\n",
    "            4.05,\n",
    "            4.86,\n",
    "            5.04,\n",
    "            5.04,\n",
    "            4.41,\n",
    "            5.58,\n",
    "            5.85,\n",
    "            6.57,\n",
    "            5.31,\n",
    "            6.03,\n",
    "            6.39,\n",
    "            6.93,\n",
    "            5.85,\n",
    "            6.93,\n",
    "            7.74,\n",
    "            7.83,\n",
    "            6.12,\n",
    "            7.74,\n",
    "            8.91,\n",
    "            8.28,\n",
    "            6.84,\n",
    "            9.54,\n",
    "            10.26,\n",
    "            9.54,\n",
    "            8.73,\n",
    "            11.88,\n",
    "            12.06,\n",
    "            12.15,\n",
    "            8.91,\n",
    "            14.04,\n",
    "            12.96,\n",
    "            14.85,\n",
    "            9.99,\n",
    "            16.20,\n",
    "            14.67,\n",
    "            16.02,\n",
    "            11.61,\n",
    "        ],\n",
    "        \"group\": np.repeat([\"JJ_1\", \"JJ_2\", \"JJ_3\", \"JJ_4\"], repeats=21),\n",
    "    }\n",
    ")\n",
    "\n",
    "df"
   ]
  },
  {
   "cell_type": "code",
   "execution_count": 25,
   "metadata": {},
   "outputs": [
    {
     "name": "stdout",
     "output_type": "stream",
     "text": [
      "Multiple Comparison of Means - Tukey HSD, FWER=0.05 \n",
      "====================================================\n",
      "group1 group2 meandiff p-adj   lower   upper  reject\n",
      "----------------------------------------------------\n",
      "  JJ_1   JJ_2   1.1276 0.1282 -0.2087   2.464  False\n",
      "  JJ_1   JJ_3     4.61    0.0  3.2737  5.9463   True\n",
      "  JJ_1   JJ_4  10.1986    0.0  8.8622 11.5349   True\n",
      "  JJ_2   JJ_3   3.4824    0.0   2.146  4.8187   True\n",
      "  JJ_2   JJ_4    9.071    0.0  7.7346 10.4073   True\n",
      "  JJ_3   JJ_4   5.5886    0.0  4.2522  6.9249   True\n",
      "----------------------------------------------------\n"
     ]
    }
   ],
   "source": [
    "from statsmodels.stats.multicomp import pairwise_tukeyhsd\n",
    "\n",
    "result = pairwise_tukeyhsd(df[\"score\"], df[\"group\"], alpha=0.05)\n",
    "\n",
    "print(result)"
   ]
  },
  {
   "cell_type": "markdown",
   "metadata": {},
   "source": [
    "### Задание 4\n",
    "\n",
    "Даны веса пациентов до и после диеты. Веса распределены нормально\n",
    "\n",
    "До 92.8 , 95.6, 92.1, 100.6, 96.2, 92.1, 96.7, 97.6, 97.0, 93.9\n",
    "\n",
    "После 87.1, 84.1, 81.3, 77.0, 86.0, 82.9, 83.0, 85.5, 85.2, 84.6\n",
    "\n",
    "Проверить гипотезу о, том что средний вес пациентов после диеты статистически меньше веса до диеты\n",
    "Используйте:\n",
    "1) alternative = 'greater‘ (pu_1 < pu_2)\n",
    "2) alternative = ‘less‘ (pu_1 > pu_2)\n",
    "3) 'two-sided' (pu_1 != pu_2)\n",
    "\n",
    "Объясните полученные результаты p-value для каждого случая"
   ]
  },
  {
   "cell_type": "code",
   "execution_count": 26,
   "metadata": {},
   "outputs": [],
   "source": [
    "# Данные\n",
    "before = np.array([92.8, 95.6, 92.1, 100.6, 96.2, 92.1, 96.7, 97.6, 97.0, 93.9])\n",
    "after = np.array([87.1, 84.1, 81.3, 77.0, 86.0, 82.9, 83.0, 85.5, 85.2, 84.6])"
   ]
  },
  {
   "cell_type": "code",
   "execution_count": 27,
   "metadata": {},
   "outputs": [
    {
     "data": {
      "text/plain": [
       "TtestResult(statistic=7.972831441034037, pvalue=1.1372213723408018e-05, df=9)"
      ]
     },
     "execution_count": 27,
     "metadata": {},
     "output_type": "execute_result"
    }
   ],
   "source": [
    "stats.ttest_rel(before, after, alternative=\"greater\")"
   ]
  },
  {
   "cell_type": "code",
   "execution_count": 28,
   "metadata": {},
   "outputs": [
    {
     "data": {
      "text/plain": [
       "TtestResult(statistic=7.972831441034037, pvalue=0.9999886277862766, df=9)"
      ]
     },
     "execution_count": 28,
     "metadata": {},
     "output_type": "execute_result"
    }
   ],
   "source": [
    "stats.ttest_rel(before, after, alternative=\"less\")"
   ]
  },
  {
   "cell_type": "code",
   "execution_count": 29,
   "metadata": {},
   "outputs": [
    {
     "data": {
      "text/plain": [
       "TtestResult(statistic=7.972831441034037, pvalue=2.2744427446816035e-05, df=9)"
      ]
     },
     "execution_count": 29,
     "metadata": {},
     "output_type": "execute_result"
    }
   ],
   "source": [
    "stats.ttest_rel(before, after, alternative=\"two-sided\")"
   ]
  },
  {
   "cell_type": "markdown",
   "metadata": {},
   "source": [
    "### Задание 5"
   ]
  },
  {
   "cell_type": "code",
   "execution_count": 32,
   "metadata": {},
   "outputs": [],
   "source": [
    "# Данные\n",
    "p1 = 0.75\n",
    "p2 = 0.69\n",
    "z_alpha = 1.96\n",
    "delta = p1 - p2\n",
    "n = 100"
   ]
  },
  {
   "cell_type": "code",
   "execution_count": 36,
   "metadata": {},
   "outputs": [
    {
     "data": {
      "text/plain": [
       "-0.024870489570874926"
      ]
     },
     "execution_count": 36,
     "metadata": {},
     "output_type": "execute_result"
    }
   ],
   "source": [
    "delta - z_alpha * (p1 * (1 - p1) / n) ** 0.5"
   ]
  },
  {
   "cell_type": "code",
   "execution_count": 39,
   "metadata": {},
   "outputs": [
    {
     "data": {
      "text/plain": [
       "0.15064867566600193"
      ]
     },
     "execution_count": 39,
     "metadata": {},
     "output_type": "execute_result"
    }
   ],
   "source": [
    "delta + z_alpha * (p2 * (1 - p2) / n) ** 0.5"
   ]
  },
  {
   "cell_type": "markdown",
   "metadata": {},
   "source": [
    "### Задание 7\n",
    "\n",
    "Какова вероятность, что в наудачу выбранном двузначном числе цифры одинаковые?"
   ]
  },
  {
   "cell_type": "code",
   "execution_count": 40,
   "metadata": {},
   "outputs": [
    {
     "data": {
      "text/plain": [
       "0.1"
      ]
     },
     "execution_count": 40,
     "metadata": {},
     "output_type": "execute_result"
    }
   ],
   "source": [
    "# Данные\n",
    "a = 10\n",
    "b = 99\n",
    "count = b - a + 1\n",
    "\n",
    "# 11 22 33 44 55 66 77 88 99\n",
    "9 / count"
   ]
  }
 ],
 "metadata": {
  "kernelspec": {
   "display_name": "Python 3",
   "language": "python",
   "name": "python3"
  },
  "language_info": {
   "codemirror_mode": {
    "name": "ipython",
    "version": 3
   },
   "file_extension": ".py",
   "mimetype": "text/x-python",
   "name": "python",
   "nbconvert_exporter": "python",
   "pygments_lexer": "ipython3",
   "version": "3.12.4"
  }
 },
 "nbformat": 4,
 "nbformat_minor": 2
}
